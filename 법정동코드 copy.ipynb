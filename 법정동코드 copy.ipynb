{
 "cells": [
  {
   "cell_type": "markdown",
   "metadata": {},
   "source": [
    "#### 도로명 주소 -> 법정동코드"
   ]
  },
  {
   "cell_type": "markdown",
   "metadata": {},
   "source": [
    "- 토지데이터에서 주소추출"
   ]
  },
  {
   "cell_type": "code",
   "execution_count": 1,
   "metadata": {},
   "outputs": [],
   "source": [
    "import requests\n",
    "from urllib.parse import quote\n",
    "import pandas as pd"
   ]
  },
  {
   "cell_type": "code",
   "execution_count": 2,
   "metadata": {},
   "outputs": [],
   "source": [
    "with open('soil_key.txt') as file:\n",
    "    soil_key = file.read()"
   ]
  },
  {
   "cell_type": "code",
   "execution_count": 3,
   "metadata": {},
   "outputs": [
    {
     "data": {
      "text/plain": [
       "'http://apis.data.go.kr/1390802/SoilEnviron/SoilExam/getSoilExamList?serviceKey=MAW83St0u7MX4NvrMdB3L815EvMa%2Bl5IQE2mS8jMIHr49AXVHFmUbSzGp%2FqZEk3C2ckB5UcIgajRm8%2BreDnYEg%3D%3D&Page_Size=10&Page_No=1&BJD_Code=4215034022'"
      ]
     },
     "execution_count": 3,
     "metadata": {},
     "output_type": "execute_result"
    }
   ],
   "source": [
    "url = f'http://apis.data.go.kr/1390802/SoilEnviron/SoilExam/getSoilExamList?serviceKey={soil_key}&Page_Size=10&Page_No=1&BJD_Code=4215034022'\n",
    "url "
   ]
  },
  {
   "cell_type": "code",
   "execution_count": 4,
   "metadata": {},
   "outputs": [],
   "source": [
    "result = requests.get(url)\n",
    "content = result.text"
   ]
  },
  {
   "cell_type": "code",
   "execution_count": 5,
   "metadata": {},
   "outputs": [
    {
     "name": "stdout",
     "output_type": "stream",
     "text": [
      "\n",
      "<response>\n",
      "<header>\n",
      "<result_code>200</result_code>\n",
      "<result_msg>OK</result_msg>\n",
      "</header>\n",
      "<body>\n",
      "<rcdcnt>10</rcdcnt>\n",
      "<page_no>1</page_no>\n",
      "<total_count>130</total_count>\n",
      "<items>\n",
      "<item>\n",
      "<no>1</no>\n",
      "<bjd_code>4215034022</bjd_code>\n",
      "<any_year>2019</any_year>\n",
      "<exam_day>20190212</exam_day>\n",
      "<exam_type>2</exam_type>\n",
      "<pnu_nm>강원도 강릉시 강동면 모전리 15-2</pnu_nm>\n",
      "<acid>7</acid>\n",
      "<vldpha>120</vldpha>\n",
      "<vldsia>450</vldsia>\n",
      "<om>150</om>\n",
      "<posifert_mg>5</posifert_mg>\n",
      "<posifert_k>5</posifert_k>\n",
      "<posifert_ca>6</posifert_ca>\n",
      "<selc>3.5</selc>\n",
      "</item>\n",
      "<item>\n",
      "<no>2</no>\n",
      "<bjd_code>4215034022</bjd_code>\n",
      "<any_year>2019</any_year>\n",
      "<exam_day>20190816</exam_day>\n",
      "<exam_type>1</exam_type>\n",
      "<pnu_nm>강원도 강릉시 강동면 모전리 570</pnu_nm>\n",
      "<acid>6.1</acid>\n",
      "<vldpha>206</vldpha>\n",
      "<vldsia>111</vldsia>\n",
      "<om>15</om>\n",
      "<posifert_mg>1.3</posifert_mg>\n",
      "<posifert_k>.47</posifert_k>\n",
      "<posifert_ca>7.4</posifert_ca>\n",
      "<selc>.25</selc>\n",
      "</item>\n",
      "<item>\n",
      "<no>3</no>\n",
      "<bjd_code>4215034022</bjd_code>\n",
      "<any_year>2019</any_year>\n",
      "<exam_day>20190816</exam_day>\n",
      "<exam_type>1</exam_type>\n",
      "<pnu_nm>강원도 강릉시 강동면 모전리 152-4</pnu_nm>\n",
      "<acid>6.2</acid>\n",
      "<vldpha>72</vldpha>\n",
      "<vldsia>71</vldsia>\n",
      "<om>20</om>\n",
      "<posifert_mg>.9</posifert_mg>\n",
      "<posifert_k>.28</posifert_k>\n",
      "<posifert_ca>5.6</posifert_ca>\n",
      "<selc>.4</selc>\n",
      "</item>\n",
      "<item>\n",
      "<no>4</no>\n",
      "<bjd_code>4215034022</bjd_code>\n",
      "<any_year>2019</any_year>\n",
      "<exam_day>20190816</exam_day>\n",
      "<exam_type>1</exam_type>\n",
      "<pnu_nm>강원도 강릉시 강동면 모전리 158-13</pnu_nm>\n",
      "<acid>5.3</acid>\n",
      "<vldpha>114</vldpha>\n",
      "<vldsia>66</vldsia>\n",
      "<om>22</om>\n",
      "<posifert_mg>.7</posifert_mg>\n",
      "<posifert_k>.62</posifert_k>\n",
      "<posifert_ca>5.4</posifert_ca>\n",
      "<selc>.4</selc>\n",
      "</item>\n",
      "<item>\n",
      "<no>5</no>\n",
      "<bjd_code>4215034022</bjd_code>\n",
      "<any_year>2019</any_year>\n",
      "<exam_day>20190816</exam_day>\n",
      "<exam_type>1</exam_type>\n",
      "<pnu_nm>강원도 강릉시 강동면 모전리 158-15</pnu_nm>\n",
      "<acid>5.3</acid>\n",
      "<vldpha>159</vldpha>\n",
      "<vldsia>163</vldsia>\n",
      "<om>18</om>\n",
      "<posifert_mg>.5</posifert_mg>\n",
      "<posifert_k>.33</posifert_k>\n",
      "<posifert_ca>5.1</posifert_ca>\n",
      "<selc>.3</selc>\n",
      "</item>\n",
      "<item>\n",
      "<no>6</no>\n",
      "<bjd_code>4215034022</bjd_code>\n",
      "<any_year>2019</any_year>\n",
      "<exam_day>20190816</exam_day>\n",
      "<exam_type>1</exam_type>\n",
      "<pnu_nm>강원도 강릉시 강동면 모전리 158-2</pnu_nm>\n",
      "<acid>4.9</acid>\n",
      "<vldpha>225</vldpha>\n",
      "<vldsia>41</vldsia>\n",
      "<om>15</om>\n",
      "<posifert_mg>.5</posifert_mg>\n",
      "<posifert_k>.23</posifert_k>\n",
      "<posifert_ca>4.4</posifert_ca>\n",
      "<selc>.4</selc>\n",
      "</item>\n",
      "<item>\n",
      "<no>7</no>\n",
      "<bjd_code>4215034022</bjd_code>\n",
      "<any_year>2019</any_year>\n",
      "<exam_day>20190816</exam_day>\n",
      "<exam_type>1</exam_type>\n",
      "<pnu_nm>강원도 강릉시 강동면 모전리 437-1</pnu_nm>\n",
      "<acid>5.1</acid>\n",
      "<vldpha>237</vldpha>\n",
      "<vldsia>30</vldsia>\n",
      "<om>12</om>\n",
      "<posifert_mg>1.2</posifert_mg>\n",
      "<posifert_k>.42</posifert_k>\n",
      "<posifert_ca>7.9</posifert_ca>\n",
      "<selc>.15</selc>\n",
      "</item>\n",
      "<item>\n",
      "<no>8</no>\n",
      "<bjd_code>4215034022</bjd_code>\n",
      "<any_year>2019</any_year>\n",
      "<exam_day>20190816</exam_day>\n",
      "<exam_type>2</exam_type>\n",
      "<pnu_nm>강원도 강릉시 강동면 모전리 842-8</pnu_nm>\n",
      "<acid>7.8</acid>\n",
      "<vldpha>376</vldpha>\n",
      "<vldsia>0</vldsia>\n",
      "<om>29</om>\n",
      "<posifert_mg>1</posifert_mg>\n",
      "<posifert_k>1.24</posifert_k>\n",
      "<posifert_ca>12</posifert_ca>\n",
      "<selc>1.4</selc>\n",
      "</item>\n",
      "<item>\n",
      "<no>9</no>\n",
      "<bjd_code>4215034022</bjd_code>\n",
      "<any_year>2019</any_year>\n",
      "<exam_day>20190816</exam_day>\n",
      "<exam_type>2</exam_type>\n",
      "<pnu_nm>강원도 강릉시 강동면 모전리 75-13</pnu_nm>\n",
      "<acid>5.4</acid>\n",
      "<vldpha>183</vldpha>\n",
      "<vldsia>0</vldsia>\n",
      "<om>6</om>\n",
      "<posifert_mg>1.4</posifert_mg>\n",
      "<posifert_k>.15</posifert_k>\n",
      "<posifert_ca>8.1</posifert_ca>\n",
      "<selc>.1</selc>\n",
      "</item>\n",
      "<item>\n",
      "<no>10</no>\n",
      "<bjd_code>4215034022</bjd_code>\n",
      "<any_year>2019</any_year>\n",
      "<exam_day>20191129</exam_day>\n",
      "<exam_type>1</exam_type>\n",
      "<pnu_nm>강원도 강릉시 강동면 모전리 718</pnu_nm>\n",
      "<acid>5.8</acid>\n",
      "<vldpha>270</vldpha>\n",
      "<vldsia>296</vldsia>\n",
      "<om>21</om>\n",
      "<posifert_mg>.8</posifert_mg>\n",
      "<posifert_k>.16</posifert_k>\n",
      "<posifert_ca>5.6</posifert_ca>\n",
      "<selc>.3</selc>\n",
      "</item>\n",
      "</items>\n",
      "</body>\n",
      "</response>\n",
      "\n"
     ]
    }
   ],
   "source": [
    "from bs4 import BeautifulSoup\n",
    "soup = BeautifulSoup(content, 'html.parser')       # parser: 구문분석기, 원하는 형태로 만들어주기 \n",
    "print(soup)"
   ]
  },
  {
   "cell_type": "code",
   "execution_count": 6,
   "metadata": {},
   "outputs": [
    {
     "data": {
      "text/plain": [
       "[<pnu_nm>강원도 강릉시 강동면 모전리 15-2</pnu_nm>,\n",
       " <pnu_nm>강원도 강릉시 강동면 모전리 570</pnu_nm>,\n",
       " <pnu_nm>강원도 강릉시 강동면 모전리 152-4</pnu_nm>,\n",
       " <pnu_nm>강원도 강릉시 강동면 모전리 158-13</pnu_nm>,\n",
       " <pnu_nm>강원도 강릉시 강동면 모전리 158-15</pnu_nm>,\n",
       " <pnu_nm>강원도 강릉시 강동면 모전리 158-2</pnu_nm>,\n",
       " <pnu_nm>강원도 강릉시 강동면 모전리 437-1</pnu_nm>,\n",
       " <pnu_nm>강원도 강릉시 강동면 모전리 842-8</pnu_nm>,\n",
       " <pnu_nm>강원도 강릉시 강동면 모전리 75-13</pnu_nm>,\n",
       " <pnu_nm>강원도 강릉시 강동면 모전리 718</pnu_nm>]"
      ]
     },
     "execution_count": 6,
     "metadata": {},
     "output_type": "execute_result"
    }
   ],
   "source": [
    "# 대상지 지번번호 pnu_nm\n",
    "soups = soup.find_all('pnu_nm')\n",
    "soups"
   ]
  },
  {
   "cell_type": "code",
   "execution_count": 7,
   "metadata": {},
   "outputs": [
    {
     "name": "stdout",
     "output_type": "stream",
     "text": [
      "강원도 강릉시 강동면 모전리 15-2,\n",
      "강원도 강릉시 강동면 모전리 570,\n",
      "강원도 강릉시 강동면 모전리 152-4,\n",
      "강원도 강릉시 강동면 모전리 158-13,\n",
      "강원도 강릉시 강동면 모전리 158-15,\n",
      "강원도 강릉시 강동면 모전리 158-2,\n",
      "강원도 강릉시 강동면 모전리 437-1,\n",
      "강원도 강릉시 강동면 모전리 842-8,\n",
      "강원도 강릉시 강동면 모전리 75-13,\n",
      "강원도 강릉시 강동면 모전리 718,\n"
     ]
    }
   ],
   "source": [
    "soups = soup.find_all('pnu_nm')\n",
    "for soup in soups:\n",
    "    print(soup.string, end=',\\n')"
   ]
  },
  {
   "cell_type": "code",
   "execution_count": 8,
   "metadata": {},
   "outputs": [],
   "source": [
    "soups = soup.find_all('pnu_nm')\n",
    "for soup in soups:\n",
    "    print(soup.string, end=',\\n')"
   ]
  },
  {
   "cell_type": "code",
   "execution_count": 9,
   "metadata": {},
   "outputs": [],
   "source": [
    "soups = soup.find_all('pnu_nm')\n",
    "for soup in soups:\n",
    "    print(soup.string, end=',\\n')\n"
   ]
  },
  {
   "cell_type": "markdown",
   "metadata": {},
   "source": [
    "- 도로명주소 API에서 법정동코드 검색 가능한 지번주소 추출\n",
    "- (수정) 도로명주소API 에서 법정동 코드 추출"
   ]
  },
  {
   "cell_type": "code",
   "execution_count": 10,
   "metadata": {},
   "outputs": [],
   "source": [
    "import requests\n",
    "from urllib.parse import quote"
   ]
  },
  {
   "cell_type": "code",
   "execution_count": 12,
   "metadata": {},
   "outputs": [],
   "source": [
    "with open('road_key.txt') as file:\n",
    "    road_key = file.read()"
   ]
  },
  {
   "cell_type": "code",
   "execution_count": 13,
   "metadata": {},
   "outputs": [
    {
     "data": {
      "text/plain": [
       "'%EB%86%8D%EC%82%B0%EB%AC%BC%EC%9B%90%EC%A2%85%EC%9E%A5'"
      ]
     },
     "execution_count": 13,
     "metadata": {},
     "output_type": "execute_result"
    }
   ],
   "source": [
    "quote('농산물원종장')"
   ]
  },
  {
   "cell_type": "code",
   "execution_count": 20,
   "metadata": {},
   "outputs": [
    {
     "data": {
      "text/plain": [
       "'https://www.juso.go.kr/addrlink/addrLinkApi.do?confmKey=U01TX0FVVEgyMDIyMDExNTIzNDEyMzExMjEzODc=&currentPage=1&countPerPage=10&keyword=%EA%B0%95%EC%9B%90%EB%8F%84%20%EA%B0%95%EB%A6%89%EC%8B%9C%20%EA%B0%95%EB%8F%99%EB%A9%B4%20%EB%AA%A8%EC%A0%84%EB%A6%AC%2015-2&resultType=json'"
      ]
     },
     "execution_count": 20,
     "metadata": {},
     "output_type": "execute_result"
    }
   ],
   "source": [
    "road_url = 'https://www.juso.go.kr/addrlink/addrLinkApi.do'\n",
    "params1 = f'confmKey={road_key}&currentPage=1&countPerPage=10'\n",
    "params2 = f'keyword={quote(\"강원도 강릉시 강동면 모전리 15-2\")}&resultType=json'\n",
    "url = f\"{road_url}?{params1}&{params2}\"\n",
    "url"
   ]
  },
  {
   "cell_type": "code",
   "execution_count": 21,
   "metadata": {},
   "outputs": [
    {
     "data": {
      "text/plain": [
       "{'results': {'common': {'errorMessage': '정상',\n",
       "   'countPerPage': '10',\n",
       "   'totalCount': '1',\n",
       "   'errorCode': '0',\n",
       "   'currentPage': '1'},\n",
       "  'juso': [{'detBdNmList': '',\n",
       "    'engAddr': '316-8, Imgok-ro, Gangdong-myeon, Gangneung-si, Gangwon-do',\n",
       "    'rn': '임곡로',\n",
       "    'emdNm': '강동면',\n",
       "    'zipNo': '25627',\n",
       "    'roadAddrPart2': '',\n",
       "    'emdNo': '01',\n",
       "    'sggNm': '강릉시',\n",
       "    'jibunAddr': '강원도 강릉시 강동면 모전리 15-2',\n",
       "    'siNm': '강원도',\n",
       "    'roadAddrPart1': '강원도 강릉시 강동면 임곡로 316-8',\n",
       "    'bdNm': '',\n",
       "    'admCd': '4215034022',\n",
       "    'udrtYn': '0',\n",
       "    'lnbrMnnm': '15',\n",
       "    'roadAddr': '강원도 강릉시 강동면 임곡로 316-8',\n",
       "    'lnbrSlno': '2',\n",
       "    'buldMnnm': '316',\n",
       "    'bdKdcd': '0',\n",
       "    'liNm': '모전리',\n",
       "    'rnMgtSn': '421503220033',\n",
       "    'mtYn': '0',\n",
       "    'bdMgtSn': '4215034022000150001038021',\n",
       "    'buldSlno': '8'}]}}"
      ]
     },
     "execution_count": 21,
     "metadata": {},
     "output_type": "execute_result"
    }
   ],
   "source": [
    "result = requests.get(url).json()\n",
    "result "
   ]
  },
  {
   "cell_type": "code",
   "execution_count": 22,
   "metadata": {},
   "outputs": [
    {
     "data": {
      "text/plain": [
       "dict_keys(['results'])"
      ]
     },
     "execution_count": 22,
     "metadata": {},
     "output_type": "execute_result"
    }
   ],
   "source": [
    "result.keys()"
   ]
  },
  {
   "cell_type": "code",
   "execution_count": 23,
   "metadata": {},
   "outputs": [
    {
     "data": {
      "text/plain": [
       "dict_keys(['common', 'juso'])"
      ]
     },
     "execution_count": 23,
     "metadata": {},
     "output_type": "execute_result"
    }
   ],
   "source": [
    "result['results'].keys()"
   ]
  },
  {
   "cell_type": "code",
   "execution_count": 24,
   "metadata": {},
   "outputs": [
    {
     "data": {
      "text/plain": [
       "[{'detBdNmList': '',\n",
       "  'engAddr': '316-8, Imgok-ro, Gangdong-myeon, Gangneung-si, Gangwon-do',\n",
       "  'rn': '임곡로',\n",
       "  'emdNm': '강동면',\n",
       "  'zipNo': '25627',\n",
       "  'roadAddrPart2': '',\n",
       "  'emdNo': '01',\n",
       "  'sggNm': '강릉시',\n",
       "  'jibunAddr': '강원도 강릉시 강동면 모전리 15-2',\n",
       "  'siNm': '강원도',\n",
       "  'roadAddrPart1': '강원도 강릉시 강동면 임곡로 316-8',\n",
       "  'bdNm': '',\n",
       "  'admCd': '4215034022',\n",
       "  'udrtYn': '0',\n",
       "  'lnbrMnnm': '15',\n",
       "  'roadAddr': '강원도 강릉시 강동면 임곡로 316-8',\n",
       "  'lnbrSlno': '2',\n",
       "  'buldMnnm': '316',\n",
       "  'bdKdcd': '0',\n",
       "  'liNm': '모전리',\n",
       "  'rnMgtSn': '421503220033',\n",
       "  'mtYn': '0',\n",
       "  'bdMgtSn': '4215034022000150001038021',\n",
       "  'buldSlno': '8'}]"
      ]
     },
     "execution_count": 24,
     "metadata": {},
     "output_type": "execute_result"
    }
   ],
   "source": [
    "juso_list = result['results']['juso']\n",
    "juso_list"
   ]
  },
  {
   "cell_type": "code",
   "execution_count": 25,
   "metadata": {},
   "outputs": [
    {
     "data": {
      "text/plain": [
       "{'detBdNmList': '',\n",
       " 'engAddr': '316-8, Imgok-ro, Gangdong-myeon, Gangneung-si, Gangwon-do',\n",
       " 'rn': '임곡로',\n",
       " 'emdNm': '강동면',\n",
       " 'zipNo': '25627',\n",
       " 'roadAddrPart2': '',\n",
       " 'emdNo': '01',\n",
       " 'sggNm': '강릉시',\n",
       " 'jibunAddr': '강원도 강릉시 강동면 모전리 15-2',\n",
       " 'siNm': '강원도',\n",
       " 'roadAddrPart1': '강원도 강릉시 강동면 임곡로 316-8',\n",
       " 'bdNm': '',\n",
       " 'admCd': '4215034022',\n",
       " 'udrtYn': '0',\n",
       " 'lnbrMnnm': '15',\n",
       " 'roadAddr': '강원도 강릉시 강동면 임곡로 316-8',\n",
       " 'lnbrSlno': '2',\n",
       " 'buldMnnm': '316',\n",
       " 'bdKdcd': '0',\n",
       " 'liNm': '모전리',\n",
       " 'rnMgtSn': '421503220033',\n",
       " 'mtYn': '0',\n",
       " 'bdMgtSn': '4215034022000150001038021',\n",
       " 'buldSlno': '8'}"
      ]
     },
     "execution_count": 25,
     "metadata": {},
     "output_type": "execute_result"
    }
   ],
   "source": [
    "juso_list[0]"
   ]
  },
  {
   "cell_type": "code",
   "execution_count": 26,
   "metadata": {},
   "outputs": [
    {
     "data": {
      "text/plain": [
       "4215034022"
      ]
     },
     "execution_count": 26,
     "metadata": {},
     "output_type": "execute_result"
    }
   ],
   "source": [
    "int(juso_list[0]['admCd'])"
   ]
  },
  {
   "cell_type": "code",
   "execution_count": null,
   "metadata": {},
   "outputs": [],
   "source": []
  },
  {
   "cell_type": "code",
   "execution_count": null,
   "metadata": {},
   "outputs": [],
   "source": []
  }
 ],
 "metadata": {
  "interpreter": {
   "hash": "c81169c30fb96244cfba0db287a0d3fd5325268de070a7a6116eecd4596df902"
  },
  "kernelspec": {
   "display_name": "Python 3.8.8 64-bit ('base': conda)",
   "language": "python",
   "name": "python3"
  },
  "language_info": {
   "codemirror_mode": {
    "name": "ipython",
    "version": 3
   },
   "file_extension": ".py",
   "mimetype": "text/x-python",
   "name": "python",
   "nbconvert_exporter": "python",
   "pygments_lexer": "ipython3",
   "version": "3.8.8"
  },
  "orig_nbformat": 4
 },
 "nbformat": 4,
 "nbformat_minor": 2
}
