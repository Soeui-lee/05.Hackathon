{
 "cells": [
  {
   "cell_type": "code",
   "execution_count": 1,
   "metadata": {},
   "outputs": [],
   "source": [
    "import requests\n",
    "from urllib.parse import quote\n",
    "import pandas as pd\n",
    "import numpy as np\n",
    "from bs4 import BeautifulSoup"
   ]
  },
  {
   "cell_type": "markdown",
   "metadata": {},
   "source": [
    "### 1. 대상지 주소 입력 > 법정동코드 추출"
   ]
  },
  {
   "cell_type": "markdown",
   "metadata": {},
   "source": [
    "대상지 : 강원 철원군 갈말읍 군탄리 473-1 ( DMZ일원 화살머리고지 등 유해발굴지 )"
   ]
  },
  {
   "cell_type": "code",
   "execution_count": 2,
   "metadata": {},
   "outputs": [],
   "source": [
    "from urllib.parse import quote\n",
    "with open('road_key.txt') as file:\n",
    "    road_key = f'{file.read()}'"
   ]
  },
  {
   "cell_type": "code",
   "execution_count": 3,
   "metadata": {},
   "outputs": [
    {
     "data": {
      "text/plain": [
       "'5013025926'"
      ]
     },
     "execution_count": 3,
     "metadata": {},
     "output_type": "execute_result"
    }
   ],
   "source": [
    "road_url = 'https://www.juso.go.kr/addrlink/addrLinkApi.do'\n",
    "params1 = f'confmKey={road_key}&currentPage=1&countPerPage=10'\n",
    "params2 = f'keyword={quote(input())}&resultType=json'\n",
    "url = f\"{road_url}?{params1}&{params2}\"\n",
    "result = requests.get(url).json()\n",
    "\n",
    "BJD_code=result['results']['juso'][0]['admCd'] \n",
    "BJD_code"
   ]
  },
  {
   "cell_type": "markdown",
   "metadata": {},
   "source": [
    "### 2. 법정동코드 > 대상지 기후대, 토양성분 추출"
   ]
  },
  {
   "cell_type": "code",
   "execution_count": 4,
   "metadata": {},
   "outputs": [
    {
     "name": "stderr",
     "output_type": "stream",
     "text": [
      "C:\\Users\\ICT01_11\\anaconda3\\lib\\site-packages\\IPython\\core\\interactiveshell.py:3165: DtypeWarning: Columns (2) have mixed types.Specify dtype option on import or set low_memory=False.\n",
      "  has_raised = await self.run_ast_nodes(code_ast.body, cell_name,\n"
     ]
    },
    {
     "data": {
      "text/plain": [
       "2.0"
      ]
     },
     "execution_count": 4,
     "metadata": {},
     "output_type": "execute_result"
    }
   ],
   "source": [
    "#https://www.forest.go.kr/kfsweb/kfi/kfs/trail/soil.do?mn=NKFS_06_08_02&fileDownload=Y&dataType=/soil/FS_IJ100_50.zip&pblicDataId=PBD0000181&tabs=1&searchSrvc=&subTitle=&searchWrd=&searchCnd=\n",
    "addrr = pd.read_csv('전국.csv', sep=',')  #전국.csv만들기\n",
    "addrr = pd.DataFrame(addrr)\n",
    "addrr = addrr[['EMNDN_CD','CLZN_CD']]\n",
    "addrr.columns = ['읍면동코드','기후대코드']\n",
    "addrr['읍면동코드'] = int(BJD_code[:-2])\n",
    "climate_code = addrr['기후대코드'].mode()[0]\n",
    "climate_code  \n",
    "\n",
    "# 1) 온대북부, 2)온대중부, 3)온대남부 4) 난대\n",
    "\n",
    "# if climate_code == 1.0:\n",
    "#     print('온대북부')\n",
    "# elif climate_code == 2.0:\n",
    "#     print('온대중부')\n",
    "# elif climate_code == 3.0:\n",
    "#     print('온대남부')\n",
    "# elif climate_code == 4.0:\n",
    "#     print('난대')"
   ]
  },
  {
   "cell_type": "code",
   "execution_count": 5,
   "metadata": {},
   "outputs": [
    {
     "data": {
      "text/html": [
       "<div>\n",
       "<style scoped>\n",
       "    .dataframe tbody tr th:only-of-type {\n",
       "        vertical-align: middle;\n",
       "    }\n",
       "\n",
       "    .dataframe tbody tr th {\n",
       "        vertical-align: top;\n",
       "    }\n",
       "\n",
       "    .dataframe thead th {\n",
       "        text-align: right;\n",
       "    }\n",
       "</style>\n",
       "<table border=\"1\" class=\"dataframe\">\n",
       "  <thead>\n",
       "    <tr style=\"text-align: right;\">\n",
       "      <th></th>\n",
       "      <th>산도</th>\n",
       "      <th>유효인산</th>\n",
       "      <th>유효규산</th>\n",
       "      <th>유기물</th>\n",
       "      <th>마그네슘</th>\n",
       "      <th>칼륨</th>\n",
       "      <th>칼슘</th>\n",
       "    </tr>\n",
       "  </thead>\n",
       "  <tbody>\n",
       "    <tr>\n",
       "      <th>0</th>\n",
       "      <td>4.5</td>\n",
       "      <td>60</td>\n",
       "      <td></td>\n",
       "      <td>159</td>\n",
       "      <td>.4</td>\n",
       "      <td>.56</td>\n",
       "      <td>.1</td>\n",
       "    </tr>\n",
       "    <tr>\n",
       "      <th>1</th>\n",
       "      <td>5.1</td>\n",
       "      <td>41</td>\n",
       "      <td></td>\n",
       "      <td>125</td>\n",
       "      <td>1.1</td>\n",
       "      <td>.88</td>\n",
       "      <td>3.4</td>\n",
       "    </tr>\n",
       "    <tr>\n",
       "      <th>2</th>\n",
       "      <td>5.7</td>\n",
       "      <td>19</td>\n",
       "      <td></td>\n",
       "      <td>182</td>\n",
       "      <td>1.3</td>\n",
       "      <td>.79</td>\n",
       "      <td>2.6</td>\n",
       "    </tr>\n",
       "    <tr>\n",
       "      <th>3</th>\n",
       "      <td>5.9</td>\n",
       "      <td>50</td>\n",
       "      <td></td>\n",
       "      <td>197</td>\n",
       "      <td>1.4</td>\n",
       "      <td>.63</td>\n",
       "      <td>3.6</td>\n",
       "    </tr>\n",
       "    <tr>\n",
       "      <th>4</th>\n",
       "      <td>6.4</td>\n",
       "      <td>33</td>\n",
       "      <td></td>\n",
       "      <td>123</td>\n",
       "      <td>4.1</td>\n",
       "      <td>.6</td>\n",
       "      <td>9.1</td>\n",
       "    </tr>\n",
       "    <tr>\n",
       "      <th>5</th>\n",
       "      <td>6.1</td>\n",
       "      <td>127</td>\n",
       "      <td></td>\n",
       "      <td>162</td>\n",
       "      <td>2.1</td>\n",
       "      <td>.89</td>\n",
       "      <td>3.3</td>\n",
       "    </tr>\n",
       "    <tr>\n",
       "      <th>6</th>\n",
       "      <td>5.6</td>\n",
       "      <td>51</td>\n",
       "      <td></td>\n",
       "      <td>145</td>\n",
       "      <td>.6</td>\n",
       "      <td>.44</td>\n",
       "      <td>1.5</td>\n",
       "    </tr>\n",
       "    <tr>\n",
       "      <th>7</th>\n",
       "      <td>6</td>\n",
       "      <td>14</td>\n",
       "      <td></td>\n",
       "      <td>116</td>\n",
       "      <td>.6</td>\n",
       "      <td>.57</td>\n",
       "      <td>1.4</td>\n",
       "    </tr>\n",
       "    <tr>\n",
       "      <th>8</th>\n",
       "      <td>5.9</td>\n",
       "      <td>10</td>\n",
       "      <td></td>\n",
       "      <td>94</td>\n",
       "      <td>.8</td>\n",
       "      <td>.61</td>\n",
       "      <td>1.9</td>\n",
       "    </tr>\n",
       "    <tr>\n",
       "      <th>9</th>\n",
       "      <td>5.6</td>\n",
       "      <td>45</td>\n",
       "      <td></td>\n",
       "      <td>148</td>\n",
       "      <td>1</td>\n",
       "      <td>.58</td>\n",
       "      <td>1.5</td>\n",
       "    </tr>\n",
       "  </tbody>\n",
       "</table>\n",
       "</div>"
      ],
      "text/plain": [
       "    산도 유효인산 유효규산  유기물 마그네슘   칼륨   칼슘\n",
       "0  4.5   60       159   .4  .56   .1\n",
       "1  5.1   41       125  1.1  .88  3.4\n",
       "2  5.7   19       182  1.3  .79  2.6\n",
       "3  5.9   50       197  1.4  .63  3.6\n",
       "4  6.4   33       123  4.1   .6  9.1\n",
       "5  6.1  127       162  2.1  .89  3.3\n",
       "6  5.6   51       145   .6  .44  1.5\n",
       "7    6   14       116   .6  .57  1.4\n",
       "8  5.9   10        94   .8  .61  1.9\n",
       "9  5.6   45       148    1  .58  1.5"
      ]
     },
     "execution_count": 5,
     "metadata": {},
     "output_type": "execute_result"
    }
   ],
   "source": [
    "with open('soil_key.txt') as file:\n",
    "    soilkey = file.read()\n",
    "\n",
    "s_url = f'http://apis.data.go.kr/1390802/SoilEnviron/SoilExam/getSoilExamList?serviceKey={soilkey}&Page_Size=10&Page_No=1&BJD_Code={BJD_code}'\n",
    "s_result = requests.get(s_url)\n",
    "s_contents = s_result.text\n",
    "s_soup = BeautifulSoup(s_contents, 'html.parser')\n",
    "\n",
    "acid = []\n",
    "vldpha = []\n",
    "vldsia = []\n",
    "om = []\n",
    "posifert_mg = []\n",
    "posifert_k = []\n",
    "posifert_ca = []\n",
    "\n",
    "lis = [acid, vldpha, vldsia, om, posifert_mg, posifert_k, posifert_ca]\n",
    "cons = ['acid', 'vldpha', 'vldsia', 'om', 'posifert_mg', 'posifert_k', 'posifert_ca']\n",
    "\n",
    "for li in lis:\n",
    "    for con in cons:\n",
    "        if lis.index(li) == cons.index(con):\n",
    "            for a in s_soup.find_all(con):\n",
    "                li.append(float(a.get_text()))\n",
    "\n",
    "ground_con = pd.DataFrame({'산도':acid, '유효인산':vldpha, '유효규산':vldsia, '유기물':om, '마그네슘':posifert_mg, '칼륨':posifert_k , '칼슘':posifert_ca})\n",
    "ground_con"
   ]
  },
  {
   "cell_type": "markdown",
   "metadata": {},
   "source": [
    "- 토양 유형 api << 쓰지 말자!! >>"
   ]
  },
  {
   "cell_type": "code",
   "execution_count": 6,
   "metadata": {},
   "outputs": [],
   "source": [
    "import requests\n",
    "from urllib.parse import quote\n",
    "import pandas as pd"
   ]
  },
  {
   "cell_type": "code",
   "execution_count": 7,
   "metadata": {},
   "outputs": [],
   "source": [
    "with open('soil_type_key.txt') as file:\n",
    "    type_key = file.read()"
   ]
  },
  {
   "cell_type": "code",
   "execution_count": 8,
   "metadata": {},
   "outputs": [
    {
     "data": {
      "text/plain": [
       "'http://apis.data.go.kr/1390802/SoilEnviron/SoilCharac2/getSoilCharacter2?serviceKey=MAW83St0u7MX4NvrMdB3L815EvMa%2Bl5IQE2mS8jMIHr49AXVHFmUbSzGp%2FqZEk3C2ckB5UcIgajRm8%2BreDnYEg%3D%3D&PNU_Code=4215034022100050000'"
      ]
     },
     "execution_count": 8,
     "metadata": {},
     "output_type": "execute_result"
    }
   ],
   "source": [
    "url = f'http://apis.data.go.kr/1390802/SoilEnviron/SoilCharac2/getSoilCharacter2?serviceKey={type_key}&PNU_Code=4215034022100050000'\n",
    "url"
   ]
  },
  {
   "cell_type": "code",
   "execution_count": 9,
   "metadata": {},
   "outputs": [],
   "source": [
    "result = requests.get(url)\n",
    "content = result.text"
   ]
  },
  {
   "cell_type": "code",
   "execution_count": 10,
   "metadata": {},
   "outputs": [
    {
     "name": "stdout",
     "output_type": "stream",
     "text": [
      "\n",
      "<response>\n",
      "<header>\n",
      "<result_code>200</result_code>\n",
      "<result_msg>OK</result_msg>\n",
      "</header>\n",
      "<body>\n",
      "<items>\n",
      "<item>\n",
      "<pnu_code>4215034022100050000</pnu_code>\n",
      "<soil_color_code>08</soil_color_code>\n",
      "<deepsoil_qlt_code>04</deepsoil_qlt_code>\n",
      "<soil_structure_code>04</soil_structure_code>\n",
      "<deepsoil_color_code>01</deepsoil_color_code>\n",
      "<deepsoil_ston_code>02</deepsoil_ston_code> <soilslope_code>03</soilslope_code>\n",
      "<matrix_code>04</matrix_code>\n",
      "<soildra_code>02</soildra_code>\n",
      "<vldsoildep_code>03</vldsoildep_code>\n",
      "<erosion_code>01</erosion_code>\n",
      "<surtture_code>04</surtture_code>\n",
      "<sur_ston_code>02</sur_ston_code>\n",
      "<soil_type_geo_code>04</soil_type_geo_code>\n",
      "<accu_style_code>03</accu_style_code>\n",
      "<main_order_code>06</main_order_code>\n",
      "<sub_order_code>12</sub_order_code>\n",
      "<grategroup_code>26</grategroup_code>\n",
      "<main_landuse_code>02</main_landuse_code>\n",
      "<soil_use_rec_code>02</soil_use_rec_code>\n",
      "<soil_type_code>07</soil_type_code>\n",
      "<rfld_grd_code>04</rfld_grd_code>\n",
      "<paddy_factor_code>02</paddy_factor_code>\n",
      "<pfld_grd_code>03</pfld_grd_code>\n",
      "<upland_factor_code>02</upland_factor_code>\n",
      "<fruit_grd_code>02</fruit_grd_code>\n",
      "<fruit_factor_code>02</fruit_factor_code>\n",
      "<pasture_grd_code>01</pasture_grd_code>\n",
      "<grass_factor_code>01</grass_factor_code>\n",
      "<frst_grd_code>01</frst_grd_code>\n",
      "<forest_factor_code>01</forest_factor_code>\n",
      "</item>\n",
      "</items>\n",
      "</body>\n",
      "</response>\n",
      "\n"
     ]
    }
   ],
   "source": [
    "from bs4 import BeautifulSoup\n",
    "soup = BeautifulSoup(content, 'html.parser')       # parser: 구문분석기, 원하는 형태로 만들어주기 \n",
    "print(soup)"
   ]
  },
  {
   "cell_type": "code",
   "execution_count": 11,
   "metadata": {},
   "outputs": [
    {
     "name": "stdout",
     "output_type": "stream",
     "text": [
      "07\n"
     ]
    }
   ],
   "source": [
    "soups = soup.find('soil_type_code')\n",
    "print(soups.string)\n",
    " \n",
    "# 07 : 밭, 보통전 "
   ]
  },
  {
   "cell_type": "code",
   "execution_count": 12,
   "metadata": {},
   "outputs": [],
   "source": [
    "# 지번코드 -> \n",
    "# 자생식물 주소-> 지번코드 \n",
    "# "
   ]
  }
 ],
 "metadata": {
  "interpreter": {
   "hash": "9f9dcbc3dbda920e9125360fe0104a4d858dfb1763bce9adddd9113b29fead37"
  },
  "kernelspec": {
   "display_name": "Python 3.8.8 64-bit ('base': conda)",
   "language": "python",
   "name": "python3"
  },
  "language_info": {
   "codemirror_mode": {
    "name": "ipython",
    "version": 3
   },
   "file_extension": ".py",
   "mimetype": "text/x-python",
   "name": "python",
   "nbconvert_exporter": "python",
   "pygments_lexer": "ipython3",
   "version": "3.8.8"
  },
  "orig_nbformat": 4
 },
 "nbformat": 4,
 "nbformat_minor": 2
}
