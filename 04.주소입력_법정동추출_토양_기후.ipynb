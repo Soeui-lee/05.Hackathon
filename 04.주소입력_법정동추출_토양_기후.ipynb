{
 "cells": [
  {
   "cell_type": "code",
   "execution_count": 1,
   "metadata": {},
   "outputs": [],
   "source": [
    "import requests\n",
    "from urllib.parse import quote\n",
    "import pandas as pd\n",
    "import numpy as np\n",
    "from bs4 import BeautifulSoup"
   ]
  },
  {
   "cell_type": "markdown",
   "metadata": {},
   "source": [
    "### 1. 대상지 주소 입력 > 법정동코드 추출"
   ]
  },
  {
   "cell_type": "code",
   "execution_count": 2,
   "metadata": {},
   "outputs": [],
   "source": [
    "from urllib.parse import quote\n",
    "with open('roadapikey.txt') as file:\n",
    "    road_key = f'{file.read()}'"
   ]
  },
  {
   "cell_type": "code",
   "execution_count": 4,
   "metadata": {},
   "outputs": [
    {
     "data": {
      "text/plain": [
       "'2647010200'"
      ]
     },
     "execution_count": 4,
     "metadata": {},
     "output_type": "execute_result"
    }
   ],
   "source": [
    "road_url = 'https://www.juso.go.kr/addrlink/addrLinkApi.do'\n",
    "params1 = f'confmKey={road_key}&currentPage=1&countPerPage=10'\n",
    "params2 = f'keyword={quote(input())}&resultType=json'\n",
    "url = f\"{road_url}?{params1}&{params2}\"\n",
    "result = requests.get(url).json()\n",
    "\n",
    "BJD_code=result['results']['juso'][0]['admCd'] \n",
    "BJD_code"
   ]
  },
  {
   "cell_type": "markdown",
   "metadata": {},
   "source": [
    "### 2. 법정동코드 > 대상지 기후대, 토양성분 추출"
   ]
  },
  {
   "cell_type": "code",
   "execution_count": 11,
   "metadata": {},
   "outputs": [
    {
     "data": {
      "text/plain": [
       "2.0"
      ]
     },
     "execution_count": 11,
     "metadata": {},
     "output_type": "execute_result"
    }
   ],
   "source": [
    "addrr = pd.read_csv('강원도.csv', sep=',')  #전국.csv만들기\n",
    "addrr = pd.DataFrame(addrr)\n",
    "addrr = addrr[['EMNDN_CD','CLZN_CD']]\n",
    "addrr.columns = ['읍면동코드','기후대코드']\n",
    "addrr['읍면동코드'] = int(BJD_code[:-2])\n",
    "climate_code = addrr['기후대코드'].mode()[0]\n",
    "climate_code  \n",
    "\n",
    "# 1) 온대북부, 2)온대중부, 3)온대남부 4) 난대\n",
    "\n",
    "# if climate_code == 1.0:\n",
    "#     print('온대북부')\n",
    "# elif climate_code == 2.0:\n",
    "#     print('온대중부')\n",
    "# elif climate_code == 3.0:\n",
    "#     print('온대남부')\n",
    "# elif climate_code == 4.0:\n",
    "#     print('난대')"
   ]
  },
  {
   "cell_type": "code",
   "execution_count": 13,
   "metadata": {},
   "outputs": [
    {
     "data": {
      "text/html": [
       "<div>\n",
       "<style scoped>\n",
       "    .dataframe tbody tr th:only-of-type {\n",
       "        vertical-align: middle;\n",
       "    }\n",
       "\n",
       "    .dataframe tbody tr th {\n",
       "        vertical-align: top;\n",
       "    }\n",
       "\n",
       "    .dataframe thead th {\n",
       "        text-align: right;\n",
       "    }\n",
       "</style>\n",
       "<table border=\"1\" class=\"dataframe\">\n",
       "  <thead>\n",
       "    <tr style=\"text-align: right;\">\n",
       "      <th></th>\n",
       "      <th>산도</th>\n",
       "      <th>유효인산</th>\n",
       "      <th>유효규산</th>\n",
       "      <th>유기물</th>\n",
       "      <th>마그네슘</th>\n",
       "      <th>칼륨</th>\n",
       "      <th>칼슘</th>\n",
       "      <th>전기전도도</th>\n",
       "    </tr>\n",
       "  </thead>\n",
       "  <tbody>\n",
       "    <tr>\n",
       "      <th>0</th>\n",
       "      <td>7.00</td>\n",
       "      <td>7.00</td>\n",
       "      <td>7.00</td>\n",
       "      <td>7.00</td>\n",
       "      <td>7.00</td>\n",
       "      <td>7.00</td>\n",
       "      <td>7.00</td>\n",
       "      <td>7.00</td>\n",
       "    </tr>\n",
       "    <tr>\n",
       "      <th>1</th>\n",
       "      <td>6.10</td>\n",
       "      <td>6.10</td>\n",
       "      <td>6.10</td>\n",
       "      <td>6.10</td>\n",
       "      <td>6.10</td>\n",
       "      <td>6.10</td>\n",
       "      <td>6.10</td>\n",
       "      <td>6.10</td>\n",
       "    </tr>\n",
       "    <tr>\n",
       "      <th>2</th>\n",
       "      <td>6.20</td>\n",
       "      <td>6.20</td>\n",
       "      <td>6.20</td>\n",
       "      <td>6.20</td>\n",
       "      <td>6.20</td>\n",
       "      <td>6.20</td>\n",
       "      <td>6.20</td>\n",
       "      <td>6.20</td>\n",
       "    </tr>\n",
       "    <tr>\n",
       "      <th>3</th>\n",
       "      <td>5.30</td>\n",
       "      <td>5.30</td>\n",
       "      <td>5.30</td>\n",
       "      <td>5.30</td>\n",
       "      <td>5.30</td>\n",
       "      <td>5.30</td>\n",
       "      <td>5.30</td>\n",
       "      <td>5.30</td>\n",
       "    </tr>\n",
       "    <tr>\n",
       "      <th>4</th>\n",
       "      <td>5.30</td>\n",
       "      <td>5.30</td>\n",
       "      <td>5.30</td>\n",
       "      <td>5.30</td>\n",
       "      <td>5.30</td>\n",
       "      <td>5.30</td>\n",
       "      <td>5.30</td>\n",
       "      <td>5.30</td>\n",
       "    </tr>\n",
       "    <tr>\n",
       "      <th>...</th>\n",
       "      <td>...</td>\n",
       "      <td>...</td>\n",
       "      <td>...</td>\n",
       "      <td>...</td>\n",
       "      <td>...</td>\n",
       "      <td>...</td>\n",
       "      <td>...</td>\n",
       "      <td>...</td>\n",
       "    </tr>\n",
       "    <tr>\n",
       "      <th>75</th>\n",
       "      <td>0.40</td>\n",
       "      <td>0.40</td>\n",
       "      <td>0.40</td>\n",
       "      <td>0.40</td>\n",
       "      <td>0.40</td>\n",
       "      <td>0.40</td>\n",
       "      <td>0.40</td>\n",
       "      <td>0.40</td>\n",
       "    </tr>\n",
       "    <tr>\n",
       "      <th>76</th>\n",
       "      <td>0.15</td>\n",
       "      <td>0.15</td>\n",
       "      <td>0.15</td>\n",
       "      <td>0.15</td>\n",
       "      <td>0.15</td>\n",
       "      <td>0.15</td>\n",
       "      <td>0.15</td>\n",
       "      <td>0.15</td>\n",
       "    </tr>\n",
       "    <tr>\n",
       "      <th>77</th>\n",
       "      <td>1.40</td>\n",
       "      <td>1.40</td>\n",
       "      <td>1.40</td>\n",
       "      <td>1.40</td>\n",
       "      <td>1.40</td>\n",
       "      <td>1.40</td>\n",
       "      <td>1.40</td>\n",
       "      <td>1.40</td>\n",
       "    </tr>\n",
       "    <tr>\n",
       "      <th>78</th>\n",
       "      <td>0.10</td>\n",
       "      <td>0.10</td>\n",
       "      <td>0.10</td>\n",
       "      <td>0.10</td>\n",
       "      <td>0.10</td>\n",
       "      <td>0.10</td>\n",
       "      <td>0.10</td>\n",
       "      <td>0.10</td>\n",
       "    </tr>\n",
       "    <tr>\n",
       "      <th>79</th>\n",
       "      <td>0.30</td>\n",
       "      <td>0.30</td>\n",
       "      <td>0.30</td>\n",
       "      <td>0.30</td>\n",
       "      <td>0.30</td>\n",
       "      <td>0.30</td>\n",
       "      <td>0.30</td>\n",
       "      <td>0.30</td>\n",
       "    </tr>\n",
       "  </tbody>\n",
       "</table>\n",
       "<p>80 rows × 8 columns</p>\n",
       "</div>"
      ],
      "text/plain": [
       "      산도  유효인산  유효규산   유기물  마그네슘    칼륨    칼슘  전기전도도\n",
       "0   7.00  7.00  7.00  7.00  7.00  7.00  7.00   7.00\n",
       "1   6.10  6.10  6.10  6.10  6.10  6.10  6.10   6.10\n",
       "2   6.20  6.20  6.20  6.20  6.20  6.20  6.20   6.20\n",
       "3   5.30  5.30  5.30  5.30  5.30  5.30  5.30   5.30\n",
       "4   5.30  5.30  5.30  5.30  5.30  5.30  5.30   5.30\n",
       "..   ...   ...   ...   ...   ...   ...   ...    ...\n",
       "75  0.40  0.40  0.40  0.40  0.40  0.40  0.40   0.40\n",
       "76  0.15  0.15  0.15  0.15  0.15  0.15  0.15   0.15\n",
       "77  1.40  1.40  1.40  1.40  1.40  1.40  1.40   1.40\n",
       "78  0.10  0.10  0.10  0.10  0.10  0.10  0.10   0.10\n",
       "79  0.30  0.30  0.30  0.30  0.30  0.30  0.30   0.30\n",
       "\n",
       "[80 rows x 8 columns]"
      ]
     },
     "execution_count": 13,
     "metadata": {},
     "output_type": "execute_result"
    }
   ],
   "source": [
    "with open('gapikey.txt') as file:\n",
    "    gkey = file.read()\n",
    "\n",
    "s_url = f'http://apis.data.go.kr/1390802/SoilEnviron/SoilExam/getSoilExamList?serviceKey={gkey}&Page_Size=10&Page_No=1&BJD_Code={BJD_code}'\n",
    "s_result = requests.get(s_url)\n",
    "s_contents = s_result.text\n",
    "s_soup = BeautifulSoup(s_contents, 'html.parser')\n",
    "\n",
    "acid = []\n",
    "vldpha = []\n",
    "vldsia = []\n",
    "om = []\n",
    "posifert_mg = []\n",
    "posifert_k = []\n",
    "posifert_ca = []\n",
    "selc= []\n",
    "\n",
    "lis = [acid, vldpha, vldsia, om, posifert_mg, posifert_k, posifert_ca, selc]\n",
    "cons = ['acid', 'vldpha', 'vldsia', 'om', 'posifert_mg', 'posifert_k', 'posifert_ca', 'selc']\n",
    "\n",
    "for li in lis:\n",
    "    for con in cons:\n",
    "        for a in s_soup.find_all(con):\n",
    "            li.append(float(a.get_text()))\n",
    "\n",
    "ground_con = pd.DataFrame({'산도':acid, '유효인산':vldpha, '유효규산':vldsia, '유기물':om, '마그네슘':posifert_mg, '칼륨':posifert_k , '칼슘':posifert_ca, '전기전도도':selc})\n",
    "ground_con"
   ]
  },
  {
   "cell_type": "code",
   "execution_count": null,
   "metadata": {},
   "outputs": [],
   "source": []
  }
 ],
 "metadata": {
  "interpreter": {
   "hash": "9f9dcbc3dbda920e9125360fe0104a4d858dfb1763bce9adddd9113b29fead37"
  },
  "kernelspec": {
   "display_name": "Python 3.8.8 64-bit ('base': conda)",
   "language": "python",
   "name": "python3"
  },
  "language_info": {
   "codemirror_mode": {
    "name": "ipython",
    "version": 3
   },
   "file_extension": ".py",
   "mimetype": "text/x-python",
   "name": "python",
   "nbconvert_exporter": "python",
   "pygments_lexer": "ipython3",
   "version": "3.8.8"
  },
  "orig_nbformat": 4
 },
 "nbformat": 4,
 "nbformat_minor": 2
}
