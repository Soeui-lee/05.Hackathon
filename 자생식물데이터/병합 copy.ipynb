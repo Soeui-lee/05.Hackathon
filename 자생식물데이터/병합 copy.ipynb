{
 "cells": [
  {
   "cell_type": "code",
   "execution_count": 1,
   "metadata": {},
   "outputs": [],
   "source": [
    "import numpy as np\n",
    "import pandas as pd"
   ]
  },
  {
   "cell_type": "code",
   "execution_count": 2,
   "metadata": {},
   "outputs": [
    {
     "data": {
      "text/plain": [
       "'CR009_02_50015.json'"
      ]
     },
     "execution_count": 2,
     "metadata": {},
     "output_type": "execute_result"
    }
   ],
   "source": [
    "import glob\n",
    "import json\n",
    "\n",
    "output = glob.glob('CR009_02_*.json')\n",
    "output[1]\n",
    "# output # 너무 많아.. "
   ]
  },
  {
   "cell_type": "code",
   "execution_count": 34,
   "metadata": {},
   "outputs": [],
   "source": [
    "import json\n",
    "import glob\n",
    "\n",
    "data = []\n",
    "for f in glob.glob(\"CR0*_*_*.json\"):\n",
    "    with open(f, encoding=\"utf-8\") as infile:\n",
    "        data.append(json.load(infile))\n",
    "\n",
    "# outfile넣으면 X\n",
    "# with open(\"CR009_02_*.json\",'w', encoding=\"utf-8\") as outfile:\n",
    "  # json.dump(data, outfile, ensure_ascii=False, indent=\"\\t\")"
   ]
  },
  {
   "cell_type": "code",
   "execution_count": 25,
   "metadata": {},
   "outputs": [
    {
     "ename": "TypeError",
     "evalue": "list indices must be integers or slices, not str",
     "output_type": "error",
     "traceback": [
      "\u001b[1;31m---------------------------------------------------------------------------\u001b[0m",
      "\u001b[1;31mTypeError\u001b[0m                                 Traceback (most recent call last)",
      "\u001b[1;32m<ipython-input-25-90fa35841ad5>\u001b[0m in \u001b[0;36m<module>\u001b[1;34m\u001b[0m\n\u001b[0;32m      1\u001b[0m \u001b[1;31m# 이름, 학명, 주소 : wd_plnt_nm, scientific_nm, region_nm\u001b[0m\u001b[1;33m\u001b[0m\u001b[1;33m\u001b[0m\u001b[1;33m\u001b[0m\u001b[0m\n\u001b[1;32m----> 2\u001b[1;33m \u001b[0mname\u001b[0m \u001b[1;33m=\u001b[0m \u001b[0mdata\u001b[0m\u001b[1;33m[\u001b[0m\u001b[1;33m:\u001b[0m\u001b[1;36m3\u001b[0m\u001b[1;33m]\u001b[0m\u001b[1;33m[\u001b[0m\u001b[1;34m'plants'\u001b[0m\u001b[1;33m]\u001b[0m\u001b[1;33m[\u001b[0m\u001b[1;34m'wd_plnt_nm'\u001b[0m\u001b[1;33m]\u001b[0m\u001b[1;33m\u001b[0m\u001b[1;33m\u001b[0m\u001b[0m\n\u001b[0m\u001b[0;32m      3\u001b[0m \u001b[0ms_name\u001b[0m \u001b[1;33m=\u001b[0m \u001b[0mdata\u001b[0m\u001b[1;33m[\u001b[0m\u001b[1;33m:\u001b[0m\u001b[1;36m3\u001b[0m\u001b[1;33m]\u001b[0m\u001b[1;33m[\u001b[0m\u001b[1;34m'plants'\u001b[0m\u001b[1;33m]\u001b[0m\u001b[1;33m[\u001b[0m\u001b[1;34m'scientific_nm'\u001b[0m\u001b[1;33m]\u001b[0m\u001b[1;33m\u001b[0m\u001b[1;33m\u001b[0m\u001b[0m\n\u001b[0;32m      4\u001b[0m \u001b[0mplace\u001b[0m \u001b[1;33m=\u001b[0m \u001b[0mdata\u001b[0m\u001b[1;33m[\u001b[0m\u001b[1;33m:\u001b[0m\u001b[1;36m3\u001b[0m\u001b[1;33m]\u001b[0m\u001b[1;33m[\u001b[0m\u001b[1;34m'images'\u001b[0m\u001b[1;33m]\u001b[0m\u001b[1;33m[\u001b[0m\u001b[1;34m'region_nm'\u001b[0m\u001b[1;33m]\u001b[0m\u001b[1;33m\u001b[0m\u001b[1;33m\u001b[0m\u001b[0m\n\u001b[0;32m      5\u001b[0m \u001b[1;33m\u001b[0m\u001b[0m\n",
      "\u001b[1;31mTypeError\u001b[0m: list indices must be integers or slices, not str"
     ]
    }
   ],
   "source": [
    "# 이름, 학명, 주소 : wd_plnt_nm, scientific_nm, region_nm\n",
    "name = data[:3]['plants']['wd_plnt_nm']\n",
    "s_name = data[:3]['plants']['scientific_nm']\n",
    "place = data[:3]['images']['region_nm']\n",
    "\n",
    "name, s_name, place"
   ]
  },
  {
   "cell_type": "code",
   "execution_count": 36,
   "metadata": {},
   "outputs": [
    {
     "data": {
      "text/plain": [
       "['Fagopyrum esculentum Moench, 1794.',\n",
       " 'Cynanchum wilfordii (Maxim.) Hemsl., 1889.',\n",
       " 'Vitex rotundifolia L. f., 1781.',\n",
       " 'Rhododendron weyrichii Maxim., 1871.',\n",
       " 'Hibiscus hamabo Siebold & Zucc., 1841.',\n",
       " 'Aster spathulifolius Maxim',\n",
       " 'Elsholtzia hallasanensis Y.N.Lee, 2000.']"
      ]
     },
     "execution_count": 36,
     "metadata": {},
     "output_type": "execute_result"
    }
   ],
   "source": [
    "sn = []\n",
    "\n",
    "for i, dt in enumerate(data):\n",
    "    s_name = data[i]['plants']['scientific_nm']\n",
    "   \n",
    "    sn.append(s_name)\n",
    "sn\n"
   ]
  },
  {
   "cell_type": "code",
   "execution_count": 40,
   "metadata": {},
   "outputs": [],
   "source": [
    "n = []\n",
    "sn = []\n",
    "pl = []\n",
    "\n",
    "for i, dt in enumerate(data):\n",
    "    name = data[i]['plants']['wd_plnt_nm']\n",
    "    s_name = data[i]['plants']['scientific_nm']\n",
    "    place = data[i]['images']['region_nm']\n",
    "\n",
    "    n.append(name)\n",
    "    sn.append(s_name)\n",
    "    pl.append(place)"
   ]
  },
  {
   "cell_type": "code",
   "execution_count": 43,
   "metadata": {},
   "outputs": [],
   "source": [
    "df = pd.DataFrame({'이름': n,'학명': sn,'주소': pl})\n",
    "df = df.set_index('이름')\n",
    "df.to_csv('자생식물.csv')"
   ]
  },
  {
   "cell_type": "markdown",
   "metadata": {},
   "source": [
    "- 자생식물.csv df에 기후대를 넣어주세요\n",
    "- 기후대로 그룹화"
   ]
  },
  {
   "cell_type": "code",
   "execution_count": 53,
   "metadata": {},
   "outputs": [],
   "source": [
    "# 주소처리 선행 "
   ]
  },
  {
   "cell_type": "code",
   "execution_count": null,
   "metadata": {},
   "outputs": [],
   "source": [
    "https://www.juso.go.kr/openIndexPage.do\n",
    "https://www.juso.go.kr/support/AddressMainSearch.do?searchKeyword=%EC%84%A0%EB%8D%95%EC%82%AC&dsgubuntext=&dscity1text=&dscounty1text=&dsemd1text=&dsri1text=&dssan1text=&dsrd_nm1text=\n"
   ]
  },
  {
   "cell_type": "code",
   "execution_count": null,
   "metadata": {},
   "outputs": [],
   "source": [
    "https://www.google.com/\n",
    "https://www.google.com/search?q=%EC%A0%9C%EC%A3%BC+%EC%84%A0%EB%8D%95%EC%82%AC&oq=%EC%A0%9C%EC%A3%BC+%EC%84%A0%EB%8D%95%EC%82%AC&aqs=chrome..69i57j46i175i199i512j69i60.1538j0j15&sourceid=chrome&ie=UTF-8"
   ]
  },
  {
   "cell_type": "code",
   "execution_count": 44,
   "metadata": {},
   "outputs": [],
   "source": [
    "import requests\n",
    "from urllib.parse import quote\n",
    "import pandas as pd\n",
    "import numpy as np\n",
    "from bs4 import BeautifulSoup"
   ]
  },
  {
   "cell_type": "code",
   "execution_count": 46,
   "metadata": {},
   "outputs": [],
   "source": [
    "from urllib.parse import quote\n",
    "with open('road_key_copy.txt') as file: # (필) 자생식물데이터 폴더에서 벗어나면 key 변경\n",
    "    road_key = f'{file.read()}'"
   ]
  },
  {
   "cell_type": "code",
   "execution_count": 47,
   "metadata": {},
   "outputs": [
    {
     "data": {
      "text/html": [
       "<div>\n",
       "<style scoped>\n",
       "    .dataframe tbody tr th:only-of-type {\n",
       "        vertical-align: middle;\n",
       "    }\n",
       "\n",
       "    .dataframe tbody tr th {\n",
       "        vertical-align: top;\n",
       "    }\n",
       "\n",
       "    .dataframe thead th {\n",
       "        text-align: right;\n",
       "    }\n",
       "</style>\n",
       "<table border=\"1\" class=\"dataframe\">\n",
       "  <thead>\n",
       "    <tr style=\"text-align: right;\">\n",
       "      <th></th>\n",
       "      <th>이름</th>\n",
       "      <th>학명</th>\n",
       "      <th>주소</th>\n",
       "    </tr>\n",
       "  </thead>\n",
       "  <tbody>\n",
       "    <tr>\n",
       "      <th>0</th>\n",
       "      <td>메밀</td>\n",
       "      <td>Fagopyrum esculentum Moench, 1794.</td>\n",
       "      <td>서귀포시 안덕면 서광리</td>\n",
       "    </tr>\n",
       "    <tr>\n",
       "      <th>1</th>\n",
       "      <td>큰조롱</td>\n",
       "      <td>Cynanchum wilfordii (Maxim.) Hemsl., 1889.</td>\n",
       "      <td>농산물원종장</td>\n",
       "    </tr>\n",
       "    <tr>\n",
       "      <th>2</th>\n",
       "      <td>순비기나무</td>\n",
       "      <td>Vitex rotundifolia L. f., 1781.</td>\n",
       "      <td>제주특별자치도 제주시 삼양동</td>\n",
       "    </tr>\n",
       "    <tr>\n",
       "      <th>3</th>\n",
       "      <td>참꽃나무</td>\n",
       "      <td>Rhododendron weyrichii Maxim., 1871.</td>\n",
       "      <td>한라생태숲 목련총림</td>\n",
       "    </tr>\n",
       "    <tr>\n",
       "      <th>4</th>\n",
       "      <td>황근</td>\n",
       "      <td>Hibiscus hamabo Siebold &amp; Zucc., 1841.</td>\n",
       "      <td>한라수목원</td>\n",
       "    </tr>\n",
       "    <tr>\n",
       "      <th>5</th>\n",
       "      <td>해국</td>\n",
       "      <td>Aster spathulifolius Maxim</td>\n",
       "      <td>첨단입구 교차로</td>\n",
       "    </tr>\n",
       "    <tr>\n",
       "      <th>6</th>\n",
       "      <td>한라꽃향유</td>\n",
       "      <td>Elsholtzia hallasanensis Y.N.Lee, 2000.</td>\n",
       "      <td>선덕사</td>\n",
       "    </tr>\n",
       "  </tbody>\n",
       "</table>\n",
       "</div>"
      ],
      "text/plain": [
       "      이름                                          학명               주소\n",
       "0     메밀          Fagopyrum esculentum Moench, 1794.     서귀포시 안덕면 서광리\n",
       "1    큰조롱  Cynanchum wilfordii (Maxim.) Hemsl., 1889.           농산물원종장\n",
       "2  순비기나무             Vitex rotundifolia L. f., 1781.  제주특별자치도 제주시 삼양동\n",
       "3   참꽃나무        Rhododendron weyrichii Maxim., 1871.       한라생태숲 목련총림\n",
       "4     황근      Hibiscus hamabo Siebold & Zucc., 1841.            한라수목원\n",
       "5     해국                  Aster spathulifolius Maxim         첨단입구 교차로\n",
       "6  한라꽃향유     Elsholtzia hallasanensis Y.N.Lee, 2000.              선덕사"
      ]
     },
     "execution_count": 47,
     "metadata": {},
     "output_type": "execute_result"
    }
   ],
   "source": [
    "df = pd.read_csv('자생식물.csv')\n",
    "df"
   ]
  },
  {
   "cell_type": "code",
   "execution_count": 52,
   "metadata": {},
   "outputs": [
    {
     "data": {
      "text/plain": [
       "0       서귀포시 안덕면 서광리\n",
       "1             농산물원종장\n",
       "2    제주특별자치도 제주시 삼양동\n",
       "3         한라생태숲 목련총림\n",
       "4              한라수목원\n",
       "5           첨단입구 교차로\n",
       "6                선덕사\n",
       "Name: 주소, dtype: object"
      ]
     },
     "execution_count": 52,
     "metadata": {},
     "output_type": "execute_result"
    }
   ],
   "source": [
    "adds = df['주소']\n",
    "adds"
   ]
  },
  {
   "cell_type": "code",
   "execution_count": null,
   "metadata": {},
   "outputs": [],
   "source": [
    "adds = df['주소']\n",
    "for i, add in enumerate(adds):"
   ]
  },
  {
   "cell_type": "code",
   "execution_count": null,
   "metadata": {},
   "outputs": [],
   "source": [
    "road_url = 'https://www.juso.go.kr/addrlink/addrLinkApi.do'\n",
    "params1 = f'confmKey={road_key}&currentPage=1&countPerPage=10'\n",
    "params2 = f'keyword={quote(input())}&resultType=json'\n",
    "url = f\"{road_url}?{params1}&{params2}\"\n",
    "result = requests.get(url).json()\n",
    "\n",
    "BJD_code=result['results']['juso'][0]['admCd'] \n",
    "BJD_code"
   ]
  },
  {
   "cell_type": "code",
   "execution_count": null,
   "metadata": {},
   "outputs": [],
   "source": [
    "addrr = pd.read_csv('전국.csv', sep=',')  #전국.csv만들기\n",
    "addrr = pd.DataFrame(addrr)\n",
    "addrr = addrr[['EMNDN_CD','CLZN_CD']]\n",
    "addrr.columns = ['읍면동코드','기후대코드']\n",
    "addrr['읍면동코드'] = int(BJD_code[:-2])\n",
    "climate_code = addrr['기후대코드'].mode()[0]\n",
    "climate_code  \n",
    "\n",
    "# 1) 온대북부, 2)온대중부, 3)온대남부 4) 난대\n",
    "\n",
    "# if climate_code == 1.0:\n",
    "#     print('온대북부')\n",
    "# elif climate_code == 2.0:\n",
    "#     print('온대중부')\n",
    "# elif climate_code == 3.0:\n",
    "#     print('온대남부')\n",
    "# elif climate_code == 4.0:\n",
    "#     print('난대')"
   ]
  }
 ],
 "metadata": {
  "interpreter": {
   "hash": "d990e0f5c79ab62bfe20220d5fc8769a25e3da57dce2813cc13c29871ddc1bfb"
  },
  "kernelspec": {
   "display_name": "Python 3.8.8 64-bit ('base': conda)",
   "language": "python",
   "name": "python3"
  },
  "language_info": {
   "codemirror_mode": {
    "name": "ipython",
    "version": 3
   },
   "file_extension": ".py",
   "mimetype": "text/x-python",
   "name": "python",
   "nbconvert_exporter": "python",
   "pygments_lexer": "ipython3",
   "version": "3.8.8"
  },
  "orig_nbformat": 4
 },
 "nbformat": 4,
 "nbformat_minor": 2
}
