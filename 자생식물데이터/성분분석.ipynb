{
 "cells": [
  {
   "cell_type": "code",
   "execution_count": 27,
   "id": "4cec830b",
   "metadata": {},
   "outputs": [],
   "source": [
    "import datetime"
   ]
  },
  {
   "cell_type": "code",
   "execution_count": 29,
   "id": "a09ab012",
   "metadata": {},
   "outputs": [
    {
     "data": {
      "text/plain": [
       "'2022년 01월 19일 Wed요일 PM 18시 03분 32초  '"
      ]
     },
     "execution_count": 29,
     "metadata": {},
     "output_type": "execute_result"
    }
   ],
   "source": [
    "starttime = datetime.datetime.today()\n",
    "starttime.strftime('%Y년 %m월 %d일 %a요일 %p %H시 %M분 %S초 %Z %z')"
   ]
  },
  {
   "cell_type": "code",
   "execution_count": 30,
   "id": "4851af39",
   "metadata": {},
   "outputs": [
    {
     "name": "stdout",
     "output_type": "stream",
     "text": [
      "0 \t Africa/Abidjan \t GMT+0000(GMT)\n",
      "1 \t Africa/Accra \t GMT+0000(GMT)\n",
      "2 \t Africa/Addis_Ababa \t GMT+0300(EAT)\n",
      "3 \t Africa/Algiers \t GMT+0100(CET)\n",
      "4 \t Africa/Asmara \t GMT+0300(EAT)\n",
      "5 \t Africa/Bamako \t GMT+0000(GMT)\n",
      "6 \t Africa/Bangui \t GMT+0100(WAT)\n",
      "7 \t Africa/Banjul \t GMT+0000(GMT)\n",
      "8 \t Africa/Bissau \t GMT+0000(GMT)\n",
      "9 \t Africa/Blantyre \t GMT+0200(CAT)\n",
      "10 \t Africa/Brazzaville \t GMT+0100(WAT)\n",
      "11 \t Africa/Bujumbura \t GMT+0200(CAT)\n",
      "12 \t Africa/Cairo \t GMT+0200(EET)\n",
      "13 \t Africa/Casablanca \t GMT+0100(+01)\n",
      "14 \t Africa/Ceuta \t GMT+0100(CET)\n",
      "15 \t Africa/Conakry \t GMT+0000(GMT)\n",
      "16 \t Africa/Dakar \t GMT+0000(GMT)\n",
      "17 \t Africa/Dar_es_Salaam \t GMT+0300(EAT)\n",
      "18 \t Africa/Djibouti \t GMT+0300(EAT)\n",
      "19 \t Africa/Douala \t GMT+0100(WAT)\n",
      "20 \t Africa/El_Aaiun \t GMT+0100(+01)\n",
      "21 \t Africa/Freetown \t GMT+0000(GMT)\n",
      "22 \t Africa/Gaborone \t GMT+0200(CAT)\n",
      "23 \t Africa/Harare \t GMT+0200(CAT)\n",
      "24 \t Africa/Johannesburg \t GMT+0200(SAST)\n",
      "25 \t Africa/Juba \t GMT+0200(CAT)\n",
      "26 \t Africa/Kampala \t GMT+0300(EAT)\n",
      "27 \t Africa/Khartoum \t GMT+0200(CAT)\n",
      "28 \t Africa/Kigali \t GMT+0200(CAT)\n",
      "29 \t Africa/Kinshasa \t GMT+0100(WAT)\n",
      "30 \t Africa/Lagos \t GMT+0100(WAT)\n",
      "31 \t Africa/Libreville \t GMT+0100(WAT)\n",
      "32 \t Africa/Lome \t GMT+0000(GMT)\n",
      "33 \t Africa/Luanda \t GMT+0100(WAT)\n",
      "34 \t Africa/Lubumbashi \t GMT+0200(CAT)\n",
      "35 \t Africa/Lusaka \t GMT+0200(CAT)\n",
      "36 \t Africa/Malabo \t GMT+0100(WAT)\n",
      "37 \t Africa/Maputo \t GMT+0200(CAT)\n",
      "38 \t Africa/Maseru \t GMT+0200(SAST)\n",
      "39 \t Africa/Mbabane \t GMT+0200(SAST)\n",
      "40 \t Africa/Mogadishu \t GMT+0300(EAT)\n",
      "41 \t Africa/Monrovia \t GMT+0000(GMT)\n",
      "42 \t Africa/Nairobi \t GMT+0300(EAT)\n",
      "43 \t Africa/Ndjamena \t GMT+0100(WAT)\n",
      "44 \t Africa/Niamey \t GMT+0100(WAT)\n",
      "45 \t Africa/Nouakchott \t GMT+0000(GMT)\n",
      "46 \t Africa/Ouagadougou \t GMT+0000(GMT)\n",
      "47 \t Africa/Porto-Novo \t GMT+0100(WAT)\n",
      "48 \t Africa/Sao_Tome \t GMT+0000(GMT)\n",
      "49 \t Africa/Tripoli \t GMT+0200(EET)\n",
      "50 \t Africa/Tunis \t GMT+0100(CET)\n",
      "51 \t Africa/Windhoek \t GMT+0200(CAT)\n",
      "52 \t America/Adak \t GMT-1000(HST)\n",
      "53 \t America/Anchorage \t GMT-0900(AKST)\n",
      "54 \t America/Anguilla \t GMT-0400(AST)\n",
      "55 \t America/Antigua \t GMT-0400(AST)\n",
      "56 \t America/Araguaina \t GMT-0300(-03)\n",
      "57 \t America/Argentina/Buenos_Aires \t GMT-0300(-03)\n",
      "58 \t America/Argentina/Catamarca \t GMT-0300(-03)\n",
      "59 \t America/Argentina/Cordoba \t GMT-0300(-03)\n",
      "60 \t America/Argentina/Jujuy \t GMT-0300(-03)\n",
      "61 \t America/Argentina/La_Rioja \t GMT-0300(-03)\n",
      "62 \t America/Argentina/Mendoza \t GMT-0300(-03)\n",
      "63 \t America/Argentina/Rio_Gallegos \t GMT-0300(-03)\n",
      "64 \t America/Argentina/Salta \t GMT-0300(-03)\n",
      "65 \t America/Argentina/San_Juan \t GMT-0300(-03)\n",
      "66 \t America/Argentina/San_Luis \t GMT-0300(-03)\n",
      "67 \t America/Argentina/Tucuman \t GMT-0300(-03)\n",
      "68 \t America/Argentina/Ushuaia \t GMT-0300(-03)\n",
      "69 \t America/Aruba \t GMT-0400(AST)\n",
      "70 \t America/Asuncion \t GMT-0300(-03)\n",
      "71 \t America/Atikokan \t GMT-0500(EST)\n",
      "72 \t America/Bahia \t GMT-0300(-03)\n",
      "73 \t America/Bahia_Banderas \t GMT-0600(CST)\n",
      "74 \t America/Barbados \t GMT-0400(AST)\n",
      "75 \t America/Belem \t GMT-0300(-03)\n",
      "76 \t America/Belize \t GMT-0600(CST)\n",
      "77 \t America/Blanc-Sablon \t GMT-0400(AST)\n",
      "78 \t America/Boa_Vista \t GMT-0400(-04)\n",
      "79 \t America/Bogota \t GMT-0500(-05)\n",
      "80 \t America/Boise \t GMT-0700(MST)\n",
      "81 \t America/Cambridge_Bay \t GMT-0700(MST)\n",
      "82 \t America/Campo_Grande \t GMT-0400(-04)\n",
      "83 \t America/Cancun \t GMT-0500(EST)\n",
      "84 \t America/Caracas \t GMT-0400(-04)\n",
      "85 \t America/Cayenne \t GMT-0300(-03)\n",
      "86 \t America/Cayman \t GMT-0500(EST)\n",
      "87 \t America/Chicago \t GMT-0600(CST)\n",
      "88 \t America/Chihuahua \t GMT-0700(MST)\n",
      "89 \t America/Costa_Rica \t GMT-0600(CST)\n",
      "90 \t America/Creston \t GMT-0700(MST)\n",
      "91 \t America/Cuiaba \t GMT-0400(-04)\n",
      "92 \t America/Curacao \t GMT-0400(AST)\n",
      "93 \t America/Danmarkshavn \t GMT+0000(GMT)\n",
      "94 \t America/Dawson \t GMT-0700(MST)\n",
      "95 \t America/Dawson_Creek \t GMT-0700(MST)\n",
      "96 \t America/Denver \t GMT-0700(MST)\n",
      "97 \t America/Detroit \t GMT-0500(EST)\n",
      "98 \t America/Dominica \t GMT-0400(AST)\n",
      "99 \t America/Edmonton \t GMT-0700(MST)\n",
      "100 \t America/Eirunepe \t GMT-0500(-05)\n",
      "101 \t America/El_Salvador \t GMT-0600(CST)\n",
      "102 \t America/Fort_Nelson \t GMT-0700(MST)\n",
      "103 \t America/Fortaleza \t GMT-0300(-03)\n",
      "104 \t America/Glace_Bay \t GMT-0400(AST)\n",
      "105 \t America/Goose_Bay \t GMT-0400(AST)\n",
      "106 \t America/Grand_Turk \t GMT-0500(EST)\n",
      "107 \t America/Grenada \t GMT-0400(AST)\n",
      "108 \t America/Guadeloupe \t GMT-0400(AST)\n",
      "109 \t America/Guatemala \t GMT-0600(CST)\n",
      "110 \t America/Guayaquil \t GMT-0500(-05)\n",
      "111 \t America/Guyana \t GMT-0400(-04)\n",
      "112 \t America/Halifax \t GMT-0400(AST)\n",
      "113 \t America/Havana \t GMT-0500(CST)\n",
      "114 \t America/Hermosillo \t GMT-0700(MST)\n",
      "115 \t America/Indiana/Indianapolis \t GMT-0500(EST)\n",
      "116 \t America/Indiana/Knox \t GMT-0600(CST)\n",
      "117 \t America/Indiana/Marengo \t GMT-0500(EST)\n",
      "118 \t America/Indiana/Petersburg \t GMT-0500(EST)\n",
      "119 \t America/Indiana/Tell_City \t GMT-0600(CST)\n",
      "120 \t America/Indiana/Vevay \t GMT-0500(EST)\n",
      "121 \t America/Indiana/Vincennes \t GMT-0500(EST)\n",
      "122 \t America/Indiana/Winamac \t GMT-0500(EST)\n",
      "123 \t America/Inuvik \t GMT-0700(MST)\n",
      "124 \t America/Iqaluit \t GMT-0500(EST)\n",
      "125 \t America/Jamaica \t GMT-0500(EST)\n",
      "126 \t America/Juneau \t GMT-0900(AKST)\n",
      "127 \t America/Kentucky/Louisville \t GMT-0500(EST)\n",
      "128 \t America/Kentucky/Monticello \t GMT-0500(EST)\n",
      "129 \t America/Kralendijk \t GMT-0400(AST)\n",
      "130 \t America/La_Paz \t GMT-0400(-04)\n",
      "131 \t America/Lima \t GMT-0500(-05)\n",
      "132 \t America/Los_Angeles \t GMT-0800(PST)\n",
      "133 \t America/Lower_Princes \t GMT-0400(AST)\n",
      "134 \t America/Maceio \t GMT-0300(-03)\n",
      "135 \t America/Managua \t GMT-0600(CST)\n",
      "136 \t America/Manaus \t GMT-0400(-04)\n",
      "137 \t America/Marigot \t GMT-0400(AST)\n",
      "138 \t America/Martinique \t GMT-0400(AST)\n",
      "139 \t America/Matamoros \t GMT-0600(CST)\n",
      "140 \t America/Mazatlan \t GMT-0700(MST)\n",
      "141 \t America/Menominee \t GMT-0600(CST)\n",
      "142 \t America/Merida \t GMT-0600(CST)\n",
      "143 \t America/Metlakatla \t GMT-0900(AKST)\n",
      "144 \t America/Mexico_City \t GMT-0600(CST)\n",
      "145 \t America/Miquelon \t GMT-0300(-03)\n",
      "146 \t America/Moncton \t GMT-0400(AST)\n",
      "147 \t America/Monterrey \t GMT-0600(CST)\n",
      "148 \t America/Montevideo \t GMT-0300(-03)\n",
      "149 \t America/Montserrat \t GMT-0400(AST)\n",
      "150 \t America/Nassau \t GMT-0500(EST)\n",
      "151 \t America/New_York \t GMT-0500(EST)\n",
      "152 \t America/Nipigon \t GMT-0500(EST)\n",
      "153 \t America/Nome \t GMT-0900(AKST)\n",
      "154 \t America/Noronha \t GMT-0200(-02)\n",
      "155 \t America/North_Dakota/Beulah \t GMT-0600(CST)\n",
      "156 \t America/North_Dakota/Center \t GMT-0600(CST)\n",
      "157 \t America/North_Dakota/New_Salem \t GMT-0600(CST)\n",
      "158 \t America/Nuuk \t GMT-0300(-03)\n",
      "159 \t America/Ojinaga \t GMT-0700(MST)\n",
      "160 \t America/Panama \t GMT-0500(EST)\n",
      "161 \t America/Pangnirtung \t GMT-0500(EST)\n",
      "162 \t America/Paramaribo \t GMT-0300(-03)\n",
      "163 \t America/Phoenix \t GMT-0700(MST)\n",
      "164 \t America/Port-au-Prince \t GMT-0500(EST)\n",
      "165 \t America/Port_of_Spain \t GMT-0400(AST)\n",
      "166 \t America/Porto_Velho \t GMT-0400(-04)\n",
      "167 \t America/Puerto_Rico \t GMT-0400(AST)\n",
      "168 \t America/Punta_Arenas \t GMT-0300(-03)\n",
      "169 \t America/Rainy_River \t GMT-0600(CST)\n",
      "170 \t America/Rankin_Inlet \t GMT-0600(CST)\n",
      "171 \t America/Recife \t GMT-0300(-03)\n",
      "172 \t America/Regina \t GMT-0600(CST)\n",
      "173 \t America/Resolute \t GMT-0600(CST)\n",
      "174 \t America/Rio_Branco \t GMT-0500(-05)\n",
      "175 \t America/Santarem \t GMT-0300(-03)\n",
      "176 \t America/Santiago \t GMT-0300(-03)\n",
      "177 \t America/Santo_Domingo \t GMT-0400(AST)\n",
      "178 \t America/Sao_Paulo \t GMT-0300(-03)\n",
      "179 \t America/Scoresbysund \t GMT-0100(-01)\n",
      "180 \t America/Sitka \t GMT-0900(AKST)\n",
      "181 \t America/St_Barthelemy \t GMT-0400(AST)\n",
      "182 \t America/St_Johns \t GMT-0330(NST)\n",
      "183 \t America/St_Kitts \t GMT-0400(AST)\n",
      "184 \t America/St_Lucia \t GMT-0400(AST)\n",
      "185 \t America/St_Thomas \t GMT-0400(AST)\n",
      "186 \t America/St_Vincent \t GMT-0400(AST)\n",
      "187 \t America/Swift_Current \t GMT-0600(CST)\n",
      "188 \t America/Tegucigalpa \t GMT-0600(CST)\n",
      "189 \t America/Thule \t GMT-0400(AST)\n",
      "190 \t America/Thunder_Bay \t GMT-0500(EST)\n",
      "191 \t America/Tijuana \t GMT-0800(PST)\n",
      "192 \t America/Toronto \t GMT-0500(EST)\n",
      "193 \t America/Tortola \t GMT-0400(AST)\n",
      "194 \t America/Vancouver \t GMT-0800(PST)\n",
      "195 \t America/Whitehorse \t GMT-0700(MST)\n",
      "196 \t America/Winnipeg \t GMT-0600(CST)\n",
      "197 \t America/Yakutat \t GMT-0900(AKST)\n",
      "198 \t America/Yellowknife \t GMT-0700(MST)\n",
      "199 \t Antarctica/Casey \t GMT+1100(+11)\n",
      "200 \t Antarctica/Davis \t GMT+0700(+07)\n",
      "201 \t Antarctica/DumontDUrville \t GMT+1000(+10)\n",
      "202 \t Antarctica/Macquarie \t GMT+1100(AEDT)\n",
      "203 \t Antarctica/Mawson \t GMT+0500(+05)\n",
      "204 \t Antarctica/McMurdo \t GMT+1300(NZDT)\n",
      "205 \t Antarctica/Palmer \t GMT-0300(-03)\n",
      "206 \t Antarctica/Rothera \t GMT-0300(-03)\n",
      "207 \t Antarctica/Syowa \t GMT+0300(+03)\n",
      "208 \t Antarctica/Troll \t GMT+0000(+00)\n",
      "209 \t Antarctica/Vostok \t GMT+0600(+06)\n",
      "210 \t Arctic/Longyearbyen \t GMT+0100(CET)\n",
      "211 \t Asia/Aden \t GMT+0300(+03)\n",
      "212 \t Asia/Almaty \t GMT+0600(+06)\n",
      "213 \t Asia/Amman \t GMT+0200(EET)\n",
      "214 \t Asia/Anadyr \t GMT+1200(+12)\n",
      "215 \t Asia/Aqtau \t GMT+0500(+05)\n",
      "216 \t Asia/Aqtobe \t GMT+0500(+05)\n",
      "217 \t Asia/Ashgabat \t GMT+0500(+05)\n",
      "218 \t Asia/Atyrau \t GMT+0500(+05)\n",
      "219 \t Asia/Baghdad \t GMT+0300(+03)\n",
      "220 \t Asia/Bahrain \t GMT+0300(+03)\n",
      "221 \t Asia/Baku \t GMT+0400(+04)\n",
      "222 \t Asia/Bangkok \t GMT+0700(+07)\n",
      "223 \t Asia/Barnaul \t GMT+0700(+07)\n",
      "224 \t Asia/Beirut \t GMT+0200(EET)\n",
      "225 \t Asia/Bishkek \t GMT+0600(+06)\n",
      "226 \t Asia/Brunei \t GMT+0800(+08)\n",
      "227 \t Asia/Chita \t GMT+0900(+09)\n",
      "228 \t Asia/Choibalsan \t GMT+0800(+08)\n",
      "229 \t Asia/Colombo \t GMT+0530(+0530)\n",
      "230 \t Asia/Damascus \t GMT+0200(EET)\n",
      "231 \t Asia/Dhaka \t GMT+0600(+06)\n",
      "232 \t Asia/Dili \t GMT+0900(+09)\n",
      "233 \t Asia/Dubai \t GMT+0400(+04)\n",
      "234 \t Asia/Dushanbe \t GMT+0500(+05)\n",
      "235 \t Asia/Famagusta \t GMT+0200(EET)\n",
      "236 \t Asia/Gaza \t GMT+0200(EET)\n",
      "237 \t Asia/Hebron \t GMT+0200(EET)\n",
      "238 \t Asia/Ho_Chi_Minh \t GMT+0700(+07)\n",
      "239 \t Asia/Hong_Kong \t GMT+0800(HKT)\n",
      "240 \t Asia/Hovd \t GMT+0700(+07)\n",
      "241 \t Asia/Irkutsk \t GMT+0800(+08)\n",
      "242 \t Asia/Jakarta \t GMT+0700(WIB)\n",
      "243 \t Asia/Jayapura \t GMT+0900(WIT)\n",
      "244 \t Asia/Jerusalem \t GMT+0200(IST)\n",
      "245 \t Asia/Kabul \t GMT+0430(+0430)\n",
      "246 \t Asia/Kamchatka \t GMT+1200(+12)\n",
      "247 \t Asia/Karachi \t GMT+0500(PKT)\n",
      "248 \t Asia/Kathmandu \t GMT+0545(+0545)\n",
      "249 \t Asia/Khandyga \t GMT+0900(+09)\n",
      "250 \t Asia/Kolkata \t GMT+0530(IST)\n",
      "251 \t Asia/Krasnoyarsk \t GMT+0700(+07)\n",
      "252 \t Asia/Kuala_Lumpur \t GMT+0800(+08)\n",
      "253 \t Asia/Kuching \t GMT+0800(+08)\n",
      "254 \t Asia/Kuwait \t GMT+0300(+03)\n",
      "255 \t Asia/Macau \t GMT+0800(CST)\n",
      "256 \t Asia/Magadan \t GMT+1100(+11)\n",
      "257 \t Asia/Makassar \t GMT+0800(WITA)\n",
      "258 \t Asia/Manila \t GMT+0800(PST)\n",
      "259 \t Asia/Muscat \t GMT+0400(+04)\n",
      "260 \t Asia/Nicosia \t GMT+0200(EET)\n",
      "261 \t Asia/Novokuznetsk \t GMT+0700(+07)\n",
      "262 \t Asia/Novosibirsk \t GMT+0700(+07)\n",
      "263 \t Asia/Omsk \t GMT+0600(+06)\n",
      "264 \t Asia/Oral \t GMT+0500(+05)\n",
      "265 \t Asia/Phnom_Penh \t GMT+0700(+07)\n",
      "266 \t Asia/Pontianak \t GMT+0700(WIB)\n",
      "267 \t Asia/Pyongyang \t GMT+0900(KST)\n",
      "268 \t Asia/Qatar \t GMT+0300(+03)\n",
      "269 \t Asia/Qostanay \t GMT+0600(+06)\n",
      "270 \t Asia/Qyzylorda \t GMT+0500(+05)\n",
      "271 \t Asia/Riyadh \t GMT+0300(+03)\n",
      "272 \t Asia/Sakhalin \t GMT+1100(+11)\n",
      "273 \t Asia/Samarkand \t GMT+0500(+05)\n",
      "274 \t Asia/Seoul \t GMT+0900(KST)\n",
      "275 \t Asia/Shanghai \t GMT+0800(CST)\n",
      "276 \t Asia/Singapore \t GMT+0800(+08)\n",
      "277 \t Asia/Srednekolymsk \t GMT+1100(+11)\n",
      "278 \t Asia/Taipei \t GMT+0800(CST)\n",
      "279 \t Asia/Tashkent \t GMT+0500(+05)\n",
      "280 \t Asia/Tbilisi \t GMT+0400(+04)\n",
      "281 \t Asia/Tehran \t GMT+0330(+0330)\n",
      "282 \t Asia/Thimphu \t GMT+0600(+06)\n",
      "283 \t Asia/Tokyo \t GMT+0900(JST)\n",
      "284 \t Asia/Tomsk \t GMT+0700(+07)\n",
      "285 \t Asia/Ulaanbaatar \t GMT+0800(+08)\n",
      "286 \t Asia/Urumqi \t GMT+0600(+06)\n",
      "287 \t Asia/Ust-Nera \t GMT+1000(+10)\n",
      "288 \t Asia/Vientiane \t GMT+0700(+07)\n",
      "289 \t Asia/Vladivostok \t GMT+1000(+10)\n",
      "290 \t Asia/Yakutsk \t GMT+0900(+09)\n",
      "291 \t Asia/Yangon \t GMT+0630(+0630)\n",
      "292 \t Asia/Yekaterinburg \t GMT+0500(+05)\n",
      "293 \t Asia/Yerevan \t GMT+0400(+04)\n",
      "294 \t Atlantic/Azores \t GMT-0100(-01)\n",
      "295 \t Atlantic/Bermuda \t GMT-0400(AST)\n",
      "296 \t Atlantic/Canary \t GMT+0000(WET)\n",
      "297 \t Atlantic/Cape_Verde \t GMT-0100(-01)\n",
      "298 \t Atlantic/Faroe \t GMT+0000(WET)\n",
      "299 \t Atlantic/Madeira \t GMT+0000(WET)\n",
      "300 \t Atlantic/Reykjavik \t GMT+0000(GMT)\n",
      "301 \t Atlantic/South_Georgia \t GMT-0200(-02)\n",
      "302 \t Atlantic/St_Helena \t GMT+0000(GMT)\n",
      "303 \t Atlantic/Stanley \t GMT-0300(-03)\n",
      "304 \t Australia/Adelaide \t GMT+1030(ACDT)\n",
      "305 \t Australia/Brisbane \t GMT+1000(AEST)\n",
      "306 \t Australia/Broken_Hill \t GMT+1030(ACDT)\n",
      "307 \t Australia/Darwin \t GMT+0930(ACST)\n",
      "308 \t Australia/Eucla \t GMT+0845(+0845)\n",
      "309 \t Australia/Hobart \t GMT+1100(AEDT)\n",
      "310 \t Australia/Lindeman \t GMT+1000(AEST)\n",
      "311 \t Australia/Lord_Howe \t GMT+1100(+11)\n",
      "312 \t Australia/Melbourne \t GMT+1100(AEDT)\n",
      "313 \t Australia/Perth \t GMT+0800(AWST)\n",
      "314 \t Australia/Sydney \t GMT+1100(AEDT)\n",
      "315 \t Canada/Atlantic \t GMT-0400(AST)\n",
      "316 \t Canada/Central \t GMT-0600(CST)\n",
      "317 \t Canada/Eastern \t GMT-0500(EST)\n",
      "318 \t Canada/Mountain \t GMT-0700(MST)\n",
      "319 \t Canada/Newfoundland \t GMT-0330(NST)\n",
      "320 \t Canada/Pacific \t GMT-0800(PST)\n",
      "321 \t Europe/Amsterdam \t GMT+0100(CET)\n",
      "322 \t Europe/Andorra \t GMT+0100(CET)\n",
      "323 \t Europe/Astrakhan \t GMT+0400(+04)\n",
      "324 \t Europe/Athens \t GMT+0200(EET)\n",
      "325 \t Europe/Belgrade \t GMT+0100(CET)\n",
      "326 \t Europe/Berlin \t GMT+0100(CET)\n",
      "327 \t Europe/Bratislava \t GMT+0100(CET)\n",
      "328 \t Europe/Brussels \t GMT+0100(CET)\n",
      "329 \t Europe/Bucharest \t GMT+0200(EET)\n",
      "330 \t Europe/Budapest \t GMT+0100(CET)\n",
      "331 \t Europe/Busingen \t GMT+0100(CET)\n",
      "332 \t Europe/Chisinau \t GMT+0200(EET)\n",
      "333 \t Europe/Copenhagen \t GMT+0100(CET)\n",
      "334 \t Europe/Dublin \t GMT+0000(GMT)\n",
      "335 \t Europe/Gibraltar \t GMT+0100(CET)\n",
      "336 \t Europe/Guernsey \t GMT+0000(GMT)\n",
      "337 \t Europe/Helsinki \t GMT+0200(EET)\n",
      "338 \t Europe/Isle_of_Man \t GMT+0000(GMT)\n",
      "339 \t Europe/Istanbul \t GMT+0300(+03)\n",
      "340 \t Europe/Jersey \t GMT+0000(GMT)\n",
      "341 \t Europe/Kaliningrad \t GMT+0200(EET)\n",
      "342 \t Europe/Kiev \t GMT+0200(EET)\n",
      "343 \t Europe/Kirov \t GMT+0300(+03)\n",
      "344 \t Europe/Lisbon \t GMT+0000(WET)\n",
      "345 \t Europe/Ljubljana \t GMT+0100(CET)\n",
      "346 \t Europe/London \t GMT+0000(GMT)\n",
      "347 \t Europe/Luxembourg \t GMT+0100(CET)\n",
      "348 \t Europe/Madrid \t GMT+0100(CET)\n",
      "349 \t Europe/Malta \t GMT+0100(CET)\n",
      "350 \t Europe/Mariehamn \t GMT+0200(EET)\n",
      "351 \t Europe/Minsk \t GMT+0300(+03)\n",
      "352 \t Europe/Monaco \t GMT+0100(CET)\n",
      "353 \t Europe/Moscow \t GMT+0300(MSK)\n",
      "354 \t Europe/Oslo \t GMT+0100(CET)\n",
      "355 \t Europe/Paris \t GMT+0100(CET)\n",
      "356 \t Europe/Podgorica \t GMT+0100(CET)\n",
      "357 \t Europe/Prague \t GMT+0100(CET)\n",
      "358 \t Europe/Riga \t GMT+0200(EET)\n",
      "359 \t Europe/Rome \t GMT+0100(CET)\n",
      "360 \t Europe/Samara \t GMT+0400(+04)\n",
      "361 \t Europe/San_Marino \t GMT+0100(CET)\n",
      "362 \t Europe/Sarajevo \t GMT+0100(CET)\n",
      "363 \t Europe/Saratov \t GMT+0400(+04)\n",
      "364 \t Europe/Simferopol \t GMT+0300(MSK)\n",
      "365 \t Europe/Skopje \t GMT+0100(CET)\n",
      "366 \t Europe/Sofia \t GMT+0200(EET)\n",
      "367 \t Europe/Stockholm \t GMT+0100(CET)\n",
      "368 \t Europe/Tallinn \t GMT+0200(EET)\n",
      "369 \t Europe/Tirane \t GMT+0100(CET)\n",
      "370 \t Europe/Ulyanovsk \t GMT+0400(+04)\n",
      "371 \t Europe/Uzhgorod \t GMT+0200(EET)\n",
      "372 \t Europe/Vaduz \t GMT+0100(CET)\n"
     ]
    },
    {
     "name": "stdout",
     "output_type": "stream",
     "text": [
      "373 \t Europe/Vatican \t GMT+0100(CET)\n",
      "374 \t Europe/Vienna \t GMT+0100(CET)\n",
      "375 \t Europe/Vilnius \t GMT+0200(EET)\n",
      "376 \t Europe/Volgograd \t GMT+0300(+03)\n",
      "377 \t Europe/Warsaw \t GMT+0100(CET)\n",
      "378 \t Europe/Zagreb \t GMT+0100(CET)\n",
      "379 \t Europe/Zaporozhye \t GMT+0200(EET)\n",
      "380 \t Europe/Zurich \t GMT+0100(CET)\n",
      "381 \t GMT \t GMT+0000(GMT)\n",
      "382 \t Indian/Antananarivo \t GMT+0300(EAT)\n",
      "383 \t Indian/Chagos \t GMT+0600(+06)\n",
      "384 \t Indian/Christmas \t GMT+0700(+07)\n",
      "385 \t Indian/Cocos \t GMT+0630(+0630)\n",
      "386 \t Indian/Comoro \t GMT+0300(EAT)\n",
      "387 \t Indian/Kerguelen \t GMT+0500(+05)\n",
      "388 \t Indian/Mahe \t GMT+0400(+04)\n",
      "389 \t Indian/Maldives \t GMT+0500(+05)\n",
      "390 \t Indian/Mauritius \t GMT+0400(+04)\n",
      "391 \t Indian/Mayotte \t GMT+0300(EAT)\n",
      "392 \t Indian/Reunion \t GMT+0400(+04)\n",
      "393 \t Pacific/Apia \t GMT+1400(+14)\n",
      "394 \t Pacific/Auckland \t GMT+1300(NZDT)\n",
      "395 \t Pacific/Bougainville \t GMT+1100(+11)\n",
      "396 \t Pacific/Chatham \t GMT+1345(+1345)\n",
      "397 \t Pacific/Chuuk \t GMT+1000(+10)\n",
      "398 \t Pacific/Easter \t GMT-0500(-05)\n",
      "399 \t Pacific/Efate \t GMT+1100(+11)\n",
      "400 \t Pacific/Enderbury \t GMT+1300(+13)\n",
      "401 \t Pacific/Fakaofo \t GMT+1300(+13)\n",
      "402 \t Pacific/Fiji \t GMT+1200(+12)\n",
      "403 \t Pacific/Funafuti \t GMT+1200(+12)\n",
      "404 \t Pacific/Galapagos \t GMT-0600(-06)\n",
      "405 \t Pacific/Gambier \t GMT-0900(-09)\n",
      "406 \t Pacific/Guadalcanal \t GMT+1100(+11)\n",
      "407 \t Pacific/Guam \t GMT+1000(ChST)\n",
      "408 \t Pacific/Honolulu \t GMT-1000(HST)\n",
      "409 \t Pacific/Kiritimati \t GMT+1400(+14)\n",
      "410 \t Pacific/Kosrae \t GMT+1100(+11)\n",
      "411 \t Pacific/Kwajalein \t GMT+1200(+12)\n",
      "412 \t Pacific/Majuro \t GMT+1200(+12)\n",
      "413 \t Pacific/Marquesas \t GMT-0930(-0930)\n",
      "414 \t Pacific/Midway \t GMT-1100(SST)\n",
      "415 \t Pacific/Nauru \t GMT+1200(+12)\n",
      "416 \t Pacific/Niue \t GMT-1100(-11)\n",
      "417 \t Pacific/Norfolk \t GMT+1200(+12)\n",
      "418 \t Pacific/Noumea \t GMT+1100(+11)\n",
      "419 \t Pacific/Pago_Pago \t GMT-1100(SST)\n",
      "420 \t Pacific/Palau \t GMT+0900(+09)\n",
      "421 \t Pacific/Pitcairn \t GMT-0800(-08)\n",
      "422 \t Pacific/Pohnpei \t GMT+1100(+11)\n",
      "423 \t Pacific/Port_Moresby \t GMT+1000(+10)\n",
      "424 \t Pacific/Rarotonga \t GMT-1000(-10)\n",
      "425 \t Pacific/Saipan \t GMT+1000(ChST)\n",
      "426 \t Pacific/Tahiti \t GMT-1000(-10)\n",
      "427 \t Pacific/Tarawa \t GMT+1200(+12)\n",
      "428 \t Pacific/Tongatapu \t GMT+1300(+13)\n",
      "429 \t Pacific/Wake \t GMT+1200(+12)\n",
      "430 \t Pacific/Wallis \t GMT+1200(+12)\n",
      "431 \t US/Alaska \t GMT-0900(AKST)\n",
      "432 \t US/Arizona \t GMT-0700(MST)\n",
      "433 \t US/Central \t GMT-0600(CST)\n",
      "434 \t US/Eastern \t GMT-0500(EST)\n",
      "435 \t US/Hawaii \t GMT-1000(HST)\n",
      "436 \t US/Mountain \t GMT-0700(MST)\n",
      "437 \t US/Pacific \t GMT-0800(PST)\n",
      "438 \t UTC \t GMT+0000(UTC)\n"
     ]
    }
   ],
   "source": [
    "from pytz import common_timezones\n",
    "from datetime import datetime\n",
    "from pytz import timezone\n",
    "\n",
    "timeoffset_format = \"GMT%z(%Z)\"\n",
    "# UTC offset in the form ±HHMM,  Time zone name\n",
    "\n",
    "for ctz in enumerate(common_timezones):\n",
    "    print(ctz[0], '\\t', ctz[1], '\\t', datetime.now(timezone(ctz[1])).strftime(timeoffset_format))"
   ]
  },
  {
   "cell_type": "code",
   "execution_count": 31,
   "id": "6a6537b2",
   "metadata": {},
   "outputs": [
    {
     "data": {
      "text/plain": [
       "'2022년 01월 19일 PM 18시 06분 57초 UCT+0900'"
      ]
     },
     "execution_count": 31,
     "metadata": {},
     "output_type": "execute_result"
    }
   ],
   "source": [
    "import pytz \n",
    "from datetime import tzinfo, datetime \n",
    "UTC = pytz.timezone('UTC') \n",
    "KST = pytz.timezone('Asia/Seoul') \n",
    "now_local = datetime.now() \n",
    "now_kst = now_local.astimezone(KST) \n",
    "now_kst.strftime('%Y년 %m월 %d일 %p %H시 %M분 %S초 UCT%z')"
   ]
  },
  {
   "cell_type": "code",
   "execution_count": 9,
   "id": "51a14248",
   "metadata": {},
   "outputs": [
    {
     "data": {
      "text/plain": [
       "<bound method DstTzInfo.utcoffset of <DstTzInfo 'Asia/Seoul' KST+9:00:00 STD>>"
      ]
     },
     "execution_count": 9,
     "metadata": {},
     "output_type": "execute_result"
    }
   ],
   "source": [
    "now_kst.tzinfo.utcoffset"
   ]
  },
  {
   "cell_type": "code",
   "execution_count": 11,
   "id": "2fea2314",
   "metadata": {},
   "outputs": [
    {
     "data": {
      "text/plain": [
       "\"<bound method DstTzInfo.utcoffset of <DstTzInfo 'Asia/Seoul' KST+9:00:00 STD>>\""
      ]
     },
     "execution_count": 11,
     "metadata": {},
     "output_type": "execute_result"
    }
   ],
   "source": [
    "str(now_kst.tzinfo.utcoffset)"
   ]
  },
  {
   "cell_type": "code",
   "execution_count": 13,
   "id": "9e7324a8",
   "metadata": {},
   "outputs": [
    {
     "data": {
      "text/plain": [
       "\"<bound method DstTzInfo.fromutc of <DstTzInfo 'Asia/Seoul' KST+9:00:00 STD>>\""
      ]
     },
     "execution_count": 13,
     "metadata": {},
     "output_type": "execute_result"
    }
   ],
   "source": [
    "str(now_kst.tzinfo.fromutc)"
   ]
  },
  {
   "cell_type": "code",
   "execution_count": 21,
   "id": "0171b62d",
   "metadata": {},
   "outputs": [
    {
     "data": {
      "text/plain": [
       "time.struct_time(tm_year=2022, tm_mon=1, tm_mday=19, tm_hour=8, tm_min=52, tm_sec=39, tm_wday=2, tm_yday=19, tm_isdst=0)"
      ]
     },
     "execution_count": 21,
     "metadata": {},
     "output_type": "execute_result"
    }
   ],
   "source": [
    "now_kst.utctimetuple()"
   ]
  },
  {
   "cell_type": "code",
   "execution_count": 2,
   "id": "b00d7aad",
   "metadata": {},
   "outputs": [
    {
     "data": {
      "text/plain": [
       "array([[0.20272095, 0.71874645, 0.45630834, 0.75778241],\n",
       "       [0.88262894, 0.24206502, 0.1466262 , 0.20569862],\n",
       "       [0.61158432, 0.1142591 , 0.40243667, 0.82817513],\n",
       "       [0.4369387 , 0.56573827, 0.96486129, 0.35394545],\n",
       "       [0.21131206, 0.18620685, 0.58671844, 0.2126837 ]])"
      ]
     },
     "execution_count": 2,
     "metadata": {},
     "output_type": "execute_result"
    }
   ],
   "source": [
    "import numpy as np\n",
    "jim = np.random.rand(5, 4)\n",
    "jim"
   ]
  },
  {
   "cell_type": "code",
   "execution_count": 4,
   "id": "111f0385",
   "metadata": {},
   "outputs": [
    {
     "data": {
      "text/plain": [
       "array([[0.83535397, 0.68511851, 0.3889953 , 0.12603305],\n",
       "       [0.91259829, 0.34642993, 0.18699128, 0.54258576],\n",
       "       [0.11596547, 0.83476242, 0.28406743, 0.66239211]])"
      ]
     },
     "execution_count": 4,
     "metadata": {},
     "output_type": "execute_result"
    }
   ],
   "source": [
    "jsn = np.random.rand(3, 4)\n",
    "jsn"
   ]
  },
  {
   "cell_type": "code",
   "execution_count": 5,
   "id": "b60a0e9d",
   "metadata": {},
   "outputs": [],
   "source": [
    "def dis(a1, a2):\n",
    "    return np.sqrt((a1 - a2).dot(a1 - a2))"
   ]
  },
  {
   "cell_type": "code",
   "execution_count": 6,
   "id": "b1b19001",
   "metadata": {},
   "outputs": [
    {
     "data": {
      "text/plain": [
       "0.6823464408485016"
      ]
     },
     "execution_count": 6,
     "metadata": {},
     "output_type": "execute_result"
    }
   ],
   "source": [
    "dists = []\n",
    "for i in range(jim.shape[0]):\n",
    "    for j in range(jsn.shape[0]):\n",
    "        dists.append(dis(jim[i], jsn[j]))\n",
    "\n",
    "meandist = np.array(dists).mean()\n",
    "meandist"
   ]
  },
  {
   "cell_type": "code",
   "execution_count": 7,
   "id": "8fb206a4",
   "metadata": {},
   "outputs": [],
   "source": [
    "# 두 집단간의 평균 거리를 리턴. 이 값이 작을 수록 더 유사한 집단\n",
    "def distClusters(m1, m2):\n",
    "    dists = []\n",
    "    dis = lambda x,y: np.sqrt((x-y).dot(x-y))\n",
    "    for i in range(m1.shape[0]):\n",
    "        for j in range(m2.shape[0]):\n",
    "            dists.append(dis(m1[i], m2[j]))\n",
    "\n",
    "    return np.array(dists).mean()"
   ]
  },
  {
   "cell_type": "code",
   "execution_count": 8,
   "id": "c1786e08",
   "metadata": {},
   "outputs": [
    {
     "data": {
      "text/plain": [
       "0.6823464408485016"
      ]
     },
     "execution_count": 8,
     "metadata": {},
     "output_type": "execute_result"
    }
   ],
   "source": [
    "distClusters(jim, jsn)"
   ]
  },
  {
   "cell_type": "code",
   "execution_count": null,
   "id": "3f4ab13c",
   "metadata": {},
   "outputs": [],
   "source": [
    "jims = [jim1, jim2, jim3]\n",
    "mindist = 10\n",
    "tops = []\n",
    "for i, jim in enumerate(jims):\n",
    "    dist = distClusters(jim, jsn)\n",
    "    if dist < mindist:\n",
    "        tops.insert(0, i)\n",
    "        mindist = dist\n",
    "        \n",
    "bestjim = jims[simjimIdx]"
   ]
  },
  {
   "cell_type": "code",
   "execution_count": 9,
   "id": "8af65689",
   "metadata": {},
   "outputs": [],
   "source": [
    "li = [1, 2,3]"
   ]
  },
  {
   "cell_type": "code",
   "execution_count": 10,
   "id": "3a83a1a5",
   "metadata": {},
   "outputs": [],
   "source": [
    "li.insert(0, 4)"
   ]
  },
  {
   "cell_type": "code",
   "execution_count": 11,
   "id": "192caa67",
   "metadata": {},
   "outputs": [
    {
     "data": {
      "text/plain": [
       "[4, 1, 2, 3]"
      ]
     },
     "execution_count": 11,
     "metadata": {},
     "output_type": "execute_result"
    }
   ],
   "source": [
    "li"
   ]
  },
  {
   "cell_type": "code",
   "execution_count": 12,
   "id": "cd778816",
   "metadata": {},
   "outputs": [
    {
     "data": {
      "text/plain": [
       "[4, 1, 2]"
      ]
     },
     "execution_count": 12,
     "metadata": {},
     "output_type": "execute_result"
    }
   ],
   "source": [
    "li[:3]"
   ]
  },
  {
   "cell_type": "code",
   "execution_count": null,
   "id": "0a0da9eb",
   "metadata": {},
   "outputs": [],
   "source": []
  }
 ],
 "metadata": {
  "kernelspec": {
   "display_name": "Python 3",
   "language": "python",
   "name": "python3"
  },
  "language_info": {
   "codemirror_mode": {
    "name": "ipython",
    "version": 3
   },
   "file_extension": ".py",
   "mimetype": "text/x-python",
   "name": "python",
   "nbconvert_exporter": "python",
   "pygments_lexer": "ipython3",
   "version": "3.8.8"
  },
  "toc": {
   "base_numbering": 1,
   "nav_menu": {},
   "number_sections": true,
   "sideBar": true,
   "skip_h1_title": false,
   "title_cell": "Table of Contents",
   "title_sidebar": "Contents",
   "toc_cell": false,
   "toc_position": {},
   "toc_section_display": true,
   "toc_window_display": false
  }
 },
 "nbformat": 4,
 "nbformat_minor": 5
}
