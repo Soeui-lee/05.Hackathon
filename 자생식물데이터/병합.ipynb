{
 "cells": [
  {
   "cell_type": "markdown",
   "metadata": {},
   "source": [
    "- 자생식물 데이터 병합 json -> df"
   ]
  },
  {
   "cell_type": "code",
   "execution_count": 1,
   "metadata": {},
   "outputs": [
    {
     "data": {
      "text/plain": [
       "'CR002_03_50025.json'"
      ]
     },
     "execution_count": 1,
     "metadata": {},
     "output_type": "execute_result"
    }
   ],
   "source": [
    "import json\n",
    "import glob\n",
    "import numpy as np\n",
    "import pandas as pd\n",
    "\n",
    "output = glob.glob('CR*_*_*.json')\n",
    "output[1]"
   ]
  },
  {
   "cell_type": "code",
   "execution_count": 2,
   "metadata": {},
   "outputs": [],
   "source": [
    "import json\n",
    "import glob\n",
    "\n",
    "data = []\n",
    "for f in glob.glob(\"CR*_*_*.json\"):\n",
    "    with open(f, encoding=\"utf-8\") as infile:\n",
    "        data.append(json.load(infile))"
   ]
  },
  {
   "cell_type": "code",
   "execution_count": 3,
   "metadata": {},
   "outputs": [],
   "source": [
    "n = []\n",
    "sn = []\n",
    "pl = []\n",
    "\n",
    "for i, dt in enumerate(data):\n",
    "    name = data[i]['plants']['wd_plnt_nm']\n",
    "    s_name = data[i]['plants']['scientific_nm'][:-7]\n",
    "    place = data[i]['images']['region_nm']\n",
    "\n",
    "    n.append(name)\n",
    "    sn.append(s_name)\n",
    "    pl.append(place)"
   ]
  },
  {
   "cell_type": "code",
   "execution_count": 4,
   "metadata": {},
   "outputs": [
    {
     "data": {
      "text/html": [
       "<div>\n",
       "<style scoped>\n",
       "    .dataframe tbody tr th:only-of-type {\n",
       "        vertical-align: middle;\n",
       "    }\n",
       "\n",
       "    .dataframe tbody tr th {\n",
       "        vertical-align: top;\n",
       "    }\n",
       "\n",
       "    .dataframe thead th {\n",
       "        text-align: right;\n",
       "    }\n",
       "</style>\n",
       "<table border=\"1\" class=\"dataframe\">\n",
       "  <thead>\n",
       "    <tr style=\"text-align: right;\">\n",
       "      <th></th>\n",
       "      <th>이름</th>\n",
       "      <th>학명</th>\n",
       "      <th>주소</th>\n",
       "    </tr>\n",
       "  </thead>\n",
       "  <tbody>\n",
       "    <tr>\n",
       "      <th>0</th>\n",
       "      <td>까마귀쪽나무</td>\n",
       "      <td>Litsea japonica (Thunb.) Juss.</td>\n",
       "      <td>한라수목원</td>\n",
       "    </tr>\n",
       "    <tr>\n",
       "      <th>1</th>\n",
       "      <td>좁은잎천선과</td>\n",
       "      <td>Ficus erecta var. sieboldii (Miq.) King</td>\n",
       "      <td>제주시 오등동</td>\n",
       "    </tr>\n",
       "    <tr>\n",
       "      <th>2</th>\n",
       "      <td>참식나무</td>\n",
       "      <td>Neolitsea sericea (Blume) Koidz.</td>\n",
       "      <td>제주특별자치도 제주시 조천읍</td>\n",
       "    </tr>\n",
       "    <tr>\n",
       "      <th>3</th>\n",
       "      <td>메밀</td>\n",
       "      <td>Fagopyrum esculentum Moench</td>\n",
       "      <td>서귀포시 안덕면 서광리</td>\n",
       "    </tr>\n",
       "    <tr>\n",
       "      <th>4</th>\n",
       "      <td>구실잣밤나무</td>\n",
       "      <td>Castanopsis sieboldii (Makino) Hatus. ex T. Ya...</td>\n",
       "      <td>만장굴</td>\n",
       "    </tr>\n",
       "    <tr>\n",
       "      <th>5</th>\n",
       "      <td>순비기나무</td>\n",
       "      <td>Vitex rotundifolia L. f.</td>\n",
       "      <td>제주특별자치도 제주시 삼양동</td>\n",
       "    </tr>\n",
       "    <tr>\n",
       "      <th>6</th>\n",
       "      <td>순비기나무</td>\n",
       "      <td>Vitex rotundifolia L. f.</td>\n",
       "      <td>제주특별자치도 제주시 구좌읍 월정리</td>\n",
       "    </tr>\n",
       "    <tr>\n",
       "      <th>7</th>\n",
       "      <td>참가시나무</td>\n",
       "      <td>Quercus salicina Blume</td>\n",
       "      <td>한라수목원</td>\n",
       "    </tr>\n",
       "    <tr>\n",
       "      <th>8</th>\n",
       "      <td>황근</td>\n",
       "      <td>Hibiscus hamabo Siebold &amp; Zucc.</td>\n",
       "      <td>한라수목원</td>\n",
       "    </tr>\n",
       "    <tr>\n",
       "      <th>9</th>\n",
       "      <td>황근</td>\n",
       "      <td>Hibiscus hamabo Siebold &amp; Zucc.</td>\n",
       "      <td>한라수목원</td>\n",
       "    </tr>\n",
       "    <tr>\n",
       "      <th>10</th>\n",
       "      <td>백량금</td>\n",
       "      <td>Ardisia</td>\n",
       "      <td>한라수목원</td>\n",
       "    </tr>\n",
       "    <tr>\n",
       "      <th>11</th>\n",
       "      <td>꽝꽝나무</td>\n",
       "      <td>Ilex</td>\n",
       "      <td>한라수목원</td>\n",
       "    </tr>\n",
       "  </tbody>\n",
       "</table>\n",
       "</div>"
      ],
      "text/plain": [
       "        이름                                                 학명  \\\n",
       "0   까마귀쪽나무                     Litsea japonica (Thunb.) Juss.   \n",
       "1   좁은잎천선과            Ficus erecta var. sieboldii (Miq.) King   \n",
       "2     참식나무                   Neolitsea sericea (Blume) Koidz.   \n",
       "3       메밀                        Fagopyrum esculentum Moench   \n",
       "4   구실잣밤나무  Castanopsis sieboldii (Makino) Hatus. ex T. Ya...   \n",
       "5    순비기나무                           Vitex rotundifolia L. f.   \n",
       "6    순비기나무                           Vitex rotundifolia L. f.   \n",
       "7    참가시나무                             Quercus salicina Blume   \n",
       "8       황근                    Hibiscus hamabo Siebold & Zucc.   \n",
       "9       황근                    Hibiscus hamabo Siebold & Zucc.   \n",
       "10     백량금                                           Ardisia    \n",
       "11    꽝꽝나무                                              Ilex    \n",
       "\n",
       "                     주소  \n",
       "0                 한라수목원  \n",
       "1               제주시 오등동  \n",
       "2       제주특별자치도 제주시 조천읍  \n",
       "3          서귀포시 안덕면 서광리  \n",
       "4                   만장굴  \n",
       "5       제주특별자치도 제주시 삼양동  \n",
       "6   제주특별자치도 제주시 구좌읍 월정리  \n",
       "7                 한라수목원  \n",
       "8                 한라수목원  \n",
       "9                 한라수목원  \n",
       "10                한라수목원  \n",
       "11                한라수목원  "
      ]
     },
     "execution_count": 4,
     "metadata": {},
     "output_type": "execute_result"
    }
   ],
   "source": [
    "df = pd.DataFrame({'이름': n,'학명': sn,'주소': pl})\n",
    "df"
   ]
  },
  {
   "cell_type": "code",
   "execution_count": 5,
   "metadata": {},
   "outputs": [],
   "source": [
    "df.to_csv('자생식물1.csv')"
   ]
  }
 ],
 "metadata": {
  "interpreter": {
   "hash": "d990e0f5c79ab62bfe20220d5fc8769a25e3da57dce2813cc13c29871ddc1bfb"
  },
  "kernelspec": {
   "display_name": "Python 3.8.8 64-bit ('base': conda)",
   "language": "python",
   "name": "python3"
  },
  "language_info": {
   "codemirror_mode": {
    "name": "ipython",
    "version": 3
   },
   "file_extension": ".py",
   "mimetype": "text/x-python",
   "name": "python",
   "nbconvert_exporter": "python",
   "pygments_lexer": "ipython3",
   "version": "3.8.8"
  },
  "orig_nbformat": 4
 },
 "nbformat": 4,
 "nbformat_minor": 2
}
