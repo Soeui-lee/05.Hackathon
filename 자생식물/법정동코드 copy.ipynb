{
 "cells": [
  {
   "cell_type": "markdown",
   "metadata": {},
   "source": [
    "#### 도로명 주소 -> 법정동코드"
   ]
  },
  {
   "cell_type": "markdown",
   "metadata": {},
   "source": [
    "- 토지데이터에서 주소추출"
   ]
  },
  {
   "cell_type": "code",
   "execution_count": 70,
   "metadata": {},
   "outputs": [],
   "source": [
    "import requests\n",
    "from urllib.parse import quote\n",
    "import pandas as pd"
   ]
  },
  {
   "cell_type": "code",
   "execution_count": 71,
   "metadata": {},
   "outputs": [],
   "source": [
    "with open('soil_key.txt') as file:\n",
    "    soil_key = file.read()"
   ]
  },
  {
   "cell_type": "code",
   "execution_count": 72,
   "metadata": {},
   "outputs": [
    {
     "data": {
      "text/plain": [
       "'http://apis.data.go.kr/1390802/SoilEnviron/SoilExam/getSoilExamList?serviceKey=MAW83St0u7MX4NvrMdB3L815EvMa%2Bl5IQE2mS8jMIHr49AXVHFmUbSzGp%2FqZEk3C2ckB5UcIgajRm8%2BreDnYEg%3D%3D&Page_Size=10&Page_No=1&BJD_Code=5011025339'"
      ]
     },
     "execution_count": 72,
     "metadata": {},
     "output_type": "execute_result"
    }
   ],
   "source": [
    "url = f'http://apis.data.go.kr/1390802/SoilEnviron/SoilExam/getSoilExamList?serviceKey={soil_key}&Page_Size=10&Page_No=1&BJD_Code=5011025339'\n",
    "url \n",
    "\n"
   ]
  },
  {
   "cell_type": "code",
   "execution_count": 73,
   "metadata": {},
   "outputs": [],
   "source": [
    "result = requests.get(url)\n",
    "content = result.text"
   ]
  },
  {
   "cell_type": "code",
   "execution_count": 74,
   "metadata": {},
   "outputs": [
    {
     "name": "stdout",
     "output_type": "stream",
     "text": [
      "\n",
      "<response>\n",
      "<header>\n",
      "<result_code>200</result_code>\n",
      "<result_msg>OK</result_msg>\n",
      "</header>\n",
      "<body>\n",
      "<rcdcnt>10</rcdcnt>\n",
      "<page_no>1</page_no>\n",
      "<total_count>890</total_count>\n",
      "<items>\n",
      "<item>\n",
      "<no>1</no>\n",
      "<bjd_code>5011025339</bjd_code>\n",
      "<any_year>2019</any_year>\n",
      "<exam_day>20190311</exam_day>\n",
      "<exam_type>7</exam_type>\n",
      "<pnu_nm>제주특별자치도 제주시 애월읍 봉성리 42</pnu_nm>\n",
      "<acid>8.3</acid>\n",
      "<vldpha>10</vldpha>\n",
      "<vldsia></vldsia>\n",
      "<om>27</om>\n",
      "<posifert_mg>7.9</posifert_mg>\n",
      "<posifert_k>.71</posifert_k>\n",
      "<posifert_ca>30</posifert_ca>\n",
      "<selc>1.05</selc>\n",
      "</item>\n",
      "<item>\n",
      "<no>2</no>\n",
      "<bjd_code>5011025339</bjd_code>\n",
      "<any_year>2019</any_year>\n",
      "<exam_day>20190311</exam_day>\n",
      "<exam_type>8</exam_type>\n",
      "<pnu_nm>제주특별자치도 제주시 애월읍 봉성리 42</pnu_nm>\n",
      "<acid>8.1</acid>\n",
      "<vldpha>10</vldpha>\n",
      "<vldsia></vldsia>\n",
      "<om>28</om>\n",
      "<posifert_mg>2.6</posifert_mg>\n",
      "<posifert_k>.45</posifert_k>\n",
      "<posifert_ca>22.1</posifert_ca>\n",
      "<selc>1.09</selc>\n",
      "</item>\n",
      "<item>\n",
      "<no>3</no>\n",
      "<bjd_code>5011025339</bjd_code>\n",
      "<any_year>2019</any_year>\n",
      "<exam_day>20190419</exam_day>\n",
      "<exam_type>8</exam_type>\n",
      "<pnu_nm>제주특별자치도 제주시 애월읍 봉성리 259</pnu_nm>\n",
      "<acid>5.1</acid>\n",
      "<vldpha>21</vldpha>\n",
      "<vldsia></vldsia>\n",
      "<om>74</om>\n",
      "<posifert_mg>2.6</posifert_mg>\n",
      "<posifert_k>.55</posifert_k>\n",
      "<posifert_ca>1.6</posifert_ca>\n",
      "<selc>.27</selc>\n",
      "</item>\n",
      "<item>\n",
      "<no>4</no>\n",
      "<bjd_code>5011025339</bjd_code>\n",
      "<any_year>2019</any_year>\n",
      "<exam_day>20190419</exam_day>\n",
      "<exam_type>8</exam_type>\n",
      "<pnu_nm>제주특별자치도 제주시 애월읍 봉성리 259-1</pnu_nm>\n",
      "<acid>5.2</acid>\n",
      "<vldpha>20</vldpha>\n",
      "<vldsia></vldsia>\n",
      "<om>99</om>\n",
      "<posifert_mg>2.6</posifert_mg>\n",
      "<posifert_k>.61</posifert_k>\n",
      "<posifert_ca>2</posifert_ca>\n",
      "<selc>.3</selc>\n",
      "</item>\n",
      "<item>\n",
      "<no>5</no>\n",
      "<bjd_code>5011025339</bjd_code>\n",
      "<any_year>2019</any_year>\n",
      "<exam_day>20190419</exam_day>\n",
      "<exam_type>8</exam_type>\n",
      "<pnu_nm>제주특별자치도 제주시 애월읍 봉성리 262</pnu_nm>\n",
      "<acid>5.2</acid>\n",
      "<vldpha>23</vldpha>\n",
      "<vldsia></vldsia>\n",
      "<om>80</om>\n",
      "<posifert_mg>1</posifert_mg>\n",
      "<posifert_k>.51</posifert_k>\n",
      "<posifert_ca>1.5</posifert_ca>\n",
      "<selc>.3</selc>\n",
      "</item>\n",
      "<item>\n",
      "<no>6</no>\n",
      "<bjd_code>5011025339</bjd_code>\n",
      "<any_year>2019</any_year>\n",
      "<exam_day>20190419</exam_day>\n",
      "<exam_type>8</exam_type>\n",
      "<pnu_nm>제주특별자치도 제주시 애월읍 봉성리 262-1</pnu_nm>\n",
      "<acid>5.1</acid>\n",
      "<vldpha>19</vldpha>\n",
      "<vldsia></vldsia>\n",
      "<om>82</om>\n",
      "<posifert_mg>2.6</posifert_mg>\n",
      "<posifert_k>.54</posifert_k>\n",
      "<posifert_ca>2</posifert_ca>\n",
      "<selc>.27</selc>\n",
      "</item>\n",
      "<item>\n",
      "<no>7</no>\n",
      "<bjd_code>5011025339</bjd_code>\n",
      "<any_year>2019</any_year>\n",
      "<exam_day>20190508</exam_day>\n",
      "<exam_type>8</exam_type>\n",
      "<pnu_nm>제주특별자치도 제주시 애월읍 봉성리 112</pnu_nm>\n",
      "<acid>5.2</acid>\n",
      "<vldpha>12</vldpha>\n",
      "<vldsia></vldsia>\n",
      "<om>68</om>\n",
      "<posifert_mg>3.9</posifert_mg>\n",
      "<posifert_k>.38</posifert_k>\n",
      "<posifert_ca>5.7</posifert_ca>\n",
      "<selc>1.83</selc>\n",
      "</item>\n",
      "<item>\n",
      "<no>8</no>\n",
      "<bjd_code>5011025339</bjd_code>\n",
      "<any_year>2019</any_year>\n",
      "<exam_day>20190625</exam_day>\n",
      "<exam_type>8</exam_type>\n",
      "<pnu_nm>제주특별자치도 제주시 애월읍 봉성리 30</pnu_nm>\n",
      "<acid>5.1</acid>\n",
      "<vldpha>5</vldpha>\n",
      "<vldsia></vldsia>\n",
      "<om>112</om>\n",
      "<posifert_mg>1</posifert_mg>\n",
      "<posifert_k>.86</posifert_k>\n",
      "<posifert_ca>1.5</posifert_ca>\n",
      "<selc>.38</selc>\n",
      "</item>\n",
      "<item>\n",
      "<no>9</no>\n",
      "<bjd_code>5011025339</bjd_code>\n",
      "<any_year>2019</any_year>\n",
      "<exam_day>20191120</exam_day>\n",
      "<exam_type>8</exam_type>\n",
      "<pnu_nm>제주특별자치도 제주시 애월읍 봉성리 61</pnu_nm>\n",
      "<acid>6.4</acid>\n",
      "<vldpha>10</vldpha>\n",
      "<vldsia></vldsia>\n",
      "<om>151</om>\n",
      "<posifert_mg>2.1</posifert_mg>\n",
      "<posifert_k>2.65</posifert_k>\n",
      "<posifert_ca>3.3</posifert_ca>\n",
      "<selc>1.68</selc>\n",
      "</item>\n",
      "<item>\n",
      "<no>10</no>\n",
      "<bjd_code>5011025339</bjd_code>\n",
      "<any_year>2019</any_year>\n",
      "<exam_day>20191120</exam_day>\n",
      "<exam_type>8</exam_type>\n",
      "<pnu_nm>제주특별자치도 제주시 애월읍 봉성리 79</pnu_nm>\n",
      "<acid>6.4</acid>\n",
      "<vldpha>10</vldpha>\n",
      "<vldsia></vldsia>\n",
      "<om>156</om>\n",
      "<posifert_mg>2.2</posifert_mg>\n",
      "<posifert_k>2.92</posifert_k>\n",
      "<posifert_ca>3</posifert_ca>\n",
      "<selc>1.9</selc>\n",
      "</item>\n",
      "</items>\n",
      "</body>\n",
      "</response>\n",
      "\n"
     ]
    }
   ],
   "source": [
    "from bs4 import BeautifulSoup\n",
    "soup = BeautifulSoup(content, 'html.parser')       # parser: 구문분석기, 원하는 형태로 만들어주기 \n",
    "print(soup)"
   ]
  },
  {
   "cell_type": "code",
   "execution_count": 75,
   "metadata": {},
   "outputs": [
    {
     "data": {
      "text/plain": [
       "[<pnu_nm>제주특별자치도 제주시 애월읍 봉성리 42</pnu_nm>,\n",
       " <pnu_nm>제주특별자치도 제주시 애월읍 봉성리 42</pnu_nm>,\n",
       " <pnu_nm>제주특별자치도 제주시 애월읍 봉성리 259</pnu_nm>,\n",
       " <pnu_nm>제주특별자치도 제주시 애월읍 봉성리 259-1</pnu_nm>,\n",
       " <pnu_nm>제주특별자치도 제주시 애월읍 봉성리 262</pnu_nm>,\n",
       " <pnu_nm>제주특별자치도 제주시 애월읍 봉성리 262-1</pnu_nm>,\n",
       " <pnu_nm>제주특별자치도 제주시 애월읍 봉성리 112</pnu_nm>,\n",
       " <pnu_nm>제주특별자치도 제주시 애월읍 봉성리 30</pnu_nm>,\n",
       " <pnu_nm>제주특별자치도 제주시 애월읍 봉성리 61</pnu_nm>,\n",
       " <pnu_nm>제주특별자치도 제주시 애월읍 봉성리 79</pnu_nm>]"
      ]
     },
     "execution_count": 75,
     "metadata": {},
     "output_type": "execute_result"
    }
   ],
   "source": [
    "# 대상지 지번번호 pnu_nm\n",
    "soups = soup.find_all('pnu_nm')\n",
    "soups"
   ]
  },
  {
   "cell_type": "code",
   "execution_count": 76,
   "metadata": {},
   "outputs": [
    {
     "name": "stdout",
     "output_type": "stream",
     "text": [
      "제주특별자치도 제주시 애월읍 봉성리 42,\n",
      "제주특별자치도 제주시 애월읍 봉성리 42,\n",
      "제주특별자치도 제주시 애월읍 봉성리 259,\n",
      "제주특별자치도 제주시 애월읍 봉성리 259-1,\n",
      "제주특별자치도 제주시 애월읍 봉성리 262,\n",
      "제주특별자치도 제주시 애월읍 봉성리 262-1,\n",
      "제주특별자치도 제주시 애월읍 봉성리 112,\n",
      "제주특별자치도 제주시 애월읍 봉성리 30,\n",
      "제주특별자치도 제주시 애월읍 봉성리 61,\n",
      "제주특별자치도 제주시 애월읍 봉성리 79,\n"
     ]
    }
   ],
   "source": [
    "soups = soup.find_all('pnu_nm')\n",
    "for soup in soups:\n",
    "    print(soup.string, end=',\\n')"
   ]
  },
  {
   "cell_type": "code",
   "execution_count": 77,
   "metadata": {},
   "outputs": [],
   "source": [
    "soups = soup.find_all('pnu_nm')\n",
    "for soup in soups:\n",
    "    print(soup.string, end=',\\n')"
   ]
  },
  {
   "cell_type": "code",
   "execution_count": 78,
   "metadata": {},
   "outputs": [],
   "source": [
    "soups = soup.find_all('pnu_nm')\n",
    "for soup in soups:\n",
    "    print(soup.string, end=',\\n')\n"
   ]
  },
  {
   "cell_type": "markdown",
   "metadata": {},
   "source": [
    "- 도로명주소 API에서 법정동코드 검색 가능한 지번주소 추출\n",
    "- (수정) 도로명주소API 에서 법정동 코드 추출"
   ]
  },
  {
   "cell_type": "code",
   "execution_count": 79,
   "metadata": {},
   "outputs": [],
   "source": [
    "import requests\n",
    "from urllib.parse import quote"
   ]
  },
  {
   "cell_type": "code",
   "execution_count": 80,
   "metadata": {},
   "outputs": [],
   "source": [
    "with open('road_key.txt') as file:\n",
    "    road_key = file.read()"
   ]
  },
  {
   "cell_type": "code",
   "execution_count": 81,
   "metadata": {},
   "outputs": [
    {
     "data": {
      "text/plain": [
       "'%ED%95%9C%EB%9D%BC%EC%83%9D%ED%83%9C%EC%88%B2%20%EB%AA%A9%EB%A0%A8%EC%B4%9D%EB%A6%BC'"
      ]
     },
     "execution_count": 81,
     "metadata": {},
     "output_type": "execute_result"
    }
   ],
   "source": [
    "quote('목련총림')"
   ]
  },
  {
   "cell_type": "code",
   "execution_count": 103,
   "metadata": {},
   "outputs": [
    {
     "data": {
      "text/plain": [
       "'https://www.juso.go.kr/addrlink/addrLinkApi.do?confmKey=U01TX0FVVEgyMDIyMDExNTIzNDEyMzExMjEzODc=&currentPage=1&countPerPage=10&keyword=%EC%84%9C%EA%B7%80%ED%8F%AC%EC%8B%9C%20%EC%84%B1%EC%82%B0%EC%9D%8D&resultType=json'"
      ]
     },
     "execution_count": 103,
     "metadata": {},
     "output_type": "execute_result"
    }
   ],
   "source": [
    "road_url = 'https://www.juso.go.kr/addrlink/addrLinkApi.do'\n",
    "params1 = f'confmKey={road_key}&currentPage=1&countPerPage=10'\n",
    "params2 = f'keyword={quote(\"서귀포시 성산읍\")}&resultType=json'\n",
    "url = f\"{road_url}?{params1}&{params2}\"\n",
    "url"
   ]
  },
  {
   "cell_type": "code",
   "execution_count": 104,
   "metadata": {},
   "outputs": [
    {
     "data": {
      "text/plain": [
       "{'results': {'common': {'errorMessage': '정상',\n",
       "   'countPerPage': '10',\n",
       "   'totalCount': '7183',\n",
       "   'errorCode': '0',\n",
       "   'currentPage': '1'},\n",
       "  'juso': [{'detBdNmList': '',\n",
       "    'engAddr': '92-9, Nansanonpyeong-ro, Seongsan-eup, Seogwipo-si, Jeju-do',\n",
       "    'rn': '난산온평로',\n",
       "    'emdNm': '성산읍',\n",
       "    'zipNo': '63633',\n",
       "    'roadAddrPart2': '',\n",
       "    'emdNo': '01',\n",
       "    'sggNm': '서귀포시',\n",
       "    'jibunAddr': '제주특별자치도 서귀포시 성산읍 온평리 2154-2',\n",
       "    'siNm': '제주특별자치도',\n",
       "    'roadAddrPart1': '제주특별자치도 서귀포시 성산읍 난산온평로 92-9',\n",
       "    'bdNm': '',\n",
       "    'admCd': '5013025926',\n",
       "    'udrtYn': '0',\n",
       "    'lnbrMnnm': '2154',\n",
       "    'roadAddr': '제주특별자치도 서귀포시 성산읍 난산온평로 92-9',\n",
       "    'lnbrSlno': '2',\n",
       "    'buldMnnm': '92',\n",
       "    'bdKdcd': '0',\n",
       "    'liNm': '온평리',\n",
       "    'rnMgtSn': '501303350028',\n",
       "    'mtYn': '0',\n",
       "    'bdMgtSn': '5013025926121540002000001',\n",
       "    'buldSlno': '9'},\n",
       "   {'detBdNmList': '',\n",
       "    'engAddr': '222-17, Namsanbong-ro, Seongsan-eup, Seogwipo-si, Jeju-do',\n",
       "    'rn': '남산봉로',\n",
       "    'emdNm': '성산읍',\n",
       "    'zipNo': '63635',\n",
       "    'roadAddrPart2': '',\n",
       "    'emdNo': '01',\n",
       "    'sggNm': '서귀포시',\n",
       "    'jibunAddr': '제주특별자치도 서귀포시 성산읍 신풍리 1562',\n",
       "    'siNm': '제주특별자치도',\n",
       "    'roadAddrPart1': '제주특별자치도 서귀포시 성산읍 남산봉로 222-17',\n",
       "    'bdNm': '',\n",
       "    'admCd': '5013025929',\n",
       "    'udrtYn': '0',\n",
       "    'lnbrMnnm': '1562',\n",
       "    'roadAddr': '제주특별자치도 서귀포시 성산읍 남산봉로 222-17',\n",
       "    'lnbrSlno': '0',\n",
       "    'buldMnnm': '222',\n",
       "    'bdKdcd': '0',\n",
       "    'liNm': '신풍리',\n",
       "    'rnMgtSn': '501303350029',\n",
       "    'mtYn': '0',\n",
       "    'bdMgtSn': '5013025929115460000000001',\n",
       "    'buldSlno': '17'},\n",
       "   {'detBdNmList': '',\n",
       "    'engAddr': '132-7, Byeongmun-ro, Seongsan-eup, Seogwipo-si, Jeju-do',\n",
       "    'rn': '병문로',\n",
       "    'emdNm': '성산읍',\n",
       "    'zipNo': '63639',\n",
       "    'roadAddrPart2': '',\n",
       "    'emdNo': '01',\n",
       "    'sggNm': '서귀포시',\n",
       "    'jibunAddr': '제주특별자치도 서귀포시 성산읍 오조리 1611-5',\n",
       "    'siNm': '제주특별자치도',\n",
       "    'roadAddrPart1': '제주특별자치도 서귀포시 성산읍 병문로 132-7',\n",
       "    'bdNm': '',\n",
       "    'admCd': '5013025922',\n",
       "    'udrtYn': '0',\n",
       "    'lnbrMnnm': '1611',\n",
       "    'roadAddr': '제주특별자치도 서귀포시 성산읍 병문로 132-7',\n",
       "    'lnbrSlno': '5',\n",
       "    'buldMnnm': '132',\n",
       "    'bdKdcd': '0',\n",
       "    'liNm': '오조리',\n",
       "    'rnMgtSn': '501303350094',\n",
       "    'mtYn': '0',\n",
       "    'bdMgtSn': '5013025922116110000000002',\n",
       "    'buldSlno': '7'},\n",
       "   {'detBdNmList': '',\n",
       "    'engAddr': '75, Susanseonam-ro 79beon-gil, Seongsan-eup, Seogwipo-si, Jeju-do',\n",
       "    'rn': '수산서남로79번길',\n",
       "    'emdNm': '성산읍',\n",
       "    'zipNo': '63630',\n",
       "    'roadAddrPart2': '',\n",
       "    'emdNo': '01',\n",
       "    'sggNm': '서귀포시',\n",
       "    'jibunAddr': '제주특별자치도 서귀포시 성산읍 수산리 2041-1',\n",
       "    'siNm': '제주특별자치도',\n",
       "    'roadAddrPart1': '제주특별자치도 서귀포시 성산읍 수산서남로79번길 75',\n",
       "    'bdNm': '',\n",
       "    'admCd': '5013025925',\n",
       "    'udrtYn': '0',\n",
       "    'lnbrMnnm': '2041',\n",
       "    'roadAddr': '제주특별자치도 서귀포시 성산읍 수산서남로79번길 75',\n",
       "    'lnbrSlno': '1',\n",
       "    'buldMnnm': '75',\n",
       "    'bdKdcd': '0',\n",
       "    'liNm': '수산리',\n",
       "    'rnMgtSn': '501304850508',\n",
       "    'mtYn': '0',\n",
       "    'bdMgtSn': '5013025925120410001000002',\n",
       "    'buldSlno': '0'},\n",
       "   {'detBdNmList': '',\n",
       "    'engAddr': '224-17, Sinpunghadong-ro, Seongsan-eup, Seogwipo-si, Jeju-do',\n",
       "    'rn': '신풍하동로',\n",
       "    'emdNm': '성산읍',\n",
       "    'zipNo': '63636',\n",
       "    'roadAddrPart2': '',\n",
       "    'emdNo': '01',\n",
       "    'sggNm': '서귀포시',\n",
       "    'jibunAddr': '제주특별자치도 서귀포시 성산읍 신풍리 188-1',\n",
       "    'siNm': '제주특별자치도',\n",
       "    'roadAddrPart1': '제주특별자치도 서귀포시 성산읍 신풍하동로 224-17',\n",
       "    'bdNm': '',\n",
       "    'admCd': '5013025929',\n",
       "    'udrtYn': '0',\n",
       "    'lnbrMnnm': '188',\n",
       "    'roadAddr': '제주특별자치도 서귀포시 성산읍 신풍하동로 224-17',\n",
       "    'lnbrSlno': '1',\n",
       "    'buldMnnm': '224',\n",
       "    'bdKdcd': '0',\n",
       "    'liNm': '신풍리',\n",
       "    'rnMgtSn': '501303350195',\n",
       "    'mtYn': '0',\n",
       "    'bdMgtSn': '5013025929101880001000001',\n",
       "    'buldSlno': '17'},\n",
       "   {'detBdNmList': '',\n",
       "    'engAddr': '265, Sinpunghadong-ro, Seongsan-eup, Seogwipo-si, Jeju-do',\n",
       "    'rn': '신풍하동로',\n",
       "    'emdNm': '성산읍',\n",
       "    'zipNo': '63636',\n",
       "    'roadAddrPart2': '',\n",
       "    'emdNo': '01',\n",
       "    'sggNm': '서귀포시',\n",
       "    'jibunAddr': '제주특별자치도 서귀포시 성산읍 신풍리 68-1',\n",
       "    'siNm': '제주특별자치도',\n",
       "    'roadAddrPart1': '제주특별자치도 서귀포시 성산읍 신풍하동로 265',\n",
       "    'bdNm': '',\n",
       "    'admCd': '5013025929',\n",
       "    'udrtYn': '0',\n",
       "    'lnbrMnnm': '68',\n",
       "    'roadAddr': '제주특별자치도 서귀포시 성산읍 신풍하동로 265',\n",
       "    'lnbrSlno': '1',\n",
       "    'buldMnnm': '265',\n",
       "    'bdKdcd': '0',\n",
       "    'liNm': '신풍리',\n",
       "    'rnMgtSn': '501303350195',\n",
       "    'mtYn': '0',\n",
       "    'bdMgtSn': '5013025929100680001000003',\n",
       "    'buldSlno': '0'},\n",
       "   {'detBdNmList': '',\n",
       "    'engAddr': '11-5, Onpyeongnansan-gil, Seongsan-eup, Seogwipo-si, Jeju-do',\n",
       "    'rn': '온평난산길',\n",
       "    'emdNm': '성산읍',\n",
       "    'zipNo': '63632',\n",
       "    'roadAddrPart2': '',\n",
       "    'emdNo': '01',\n",
       "    'sggNm': '서귀포시',\n",
       "    'jibunAddr': '제주특별자치도 서귀포시 성산읍 난산리 703',\n",
       "    'siNm': '제주특별자치도',\n",
       "    'roadAddrPart1': '제주특별자치도 서귀포시 성산읍 온평난산길 11-5',\n",
       "    'bdNm': '',\n",
       "    'admCd': '5013025931',\n",
       "    'udrtYn': '0',\n",
       "    'lnbrMnnm': '703',\n",
       "    'roadAddr': '제주특별자치도 서귀포시 성산읍 온평난산길 11-5',\n",
       "    'lnbrSlno': '0',\n",
       "    'buldMnnm': '11',\n",
       "    'bdKdcd': '0',\n",
       "    'liNm': '난산리',\n",
       "    'rnMgtSn': '501304860744',\n",
       "    'mtYn': '0',\n",
       "    'bdMgtSn': '5013025931107030000000001',\n",
       "    'buldSlno': '5'},\n",
       "   {'detBdNmList': '',\n",
       "    'engAddr': '34, Pungcheon-ro 38beon-gil, Seongsan-eup, Seogwipo-si, Jeju-do',\n",
       "    'rn': '풍천로38번길',\n",
       "    'emdNm': '성산읍',\n",
       "    'zipNo': '63637',\n",
       "    'roadAddrPart2': '',\n",
       "    'emdNo': '01',\n",
       "    'sggNm': '서귀포시',\n",
       "    'jibunAddr': '제주특별자치도 서귀포시 성산읍 신천리 815',\n",
       "    'siNm': '제주특별자치도',\n",
       "    'roadAddrPart1': '제주특별자치도 서귀포시 성산읍 풍천로38번길 34',\n",
       "    'bdNm': '',\n",
       "    'admCd': '5013025930',\n",
       "    'udrtYn': '0',\n",
       "    'lnbrMnnm': '815',\n",
       "    'roadAddr': '제주특별자치도 서귀포시 성산읍 풍천로38번길 34',\n",
       "    'lnbrSlno': '0',\n",
       "    'buldMnnm': '34',\n",
       "    'bdKdcd': '0',\n",
       "    'liNm': '신천리',\n",
       "    'rnMgtSn': '501304857897',\n",
       "    'mtYn': '0',\n",
       "    'bdMgtSn': '5013025930108150000000001',\n",
       "    'buldSlno': '0'},\n",
       "   {'detBdNmList': '',\n",
       "    'engAddr': '59, Pungcheon-ro 38beon-gil, Seongsan-eup, Seogwipo-si, Jeju-do',\n",
       "    'rn': '풍천로38번길',\n",
       "    'emdNm': '성산읍',\n",
       "    'zipNo': '63637',\n",
       "    'roadAddrPart2': '',\n",
       "    'emdNo': '01',\n",
       "    'sggNm': '서귀포시',\n",
       "    'jibunAddr': '제주특별자치도 서귀포시 성산읍 신천리 801',\n",
       "    'siNm': '제주특별자치도',\n",
       "    'roadAddrPart1': '제주특별자치도 서귀포시 성산읍 풍천로38번길 59',\n",
       "    'bdNm': '',\n",
       "    'admCd': '5013025930',\n",
       "    'udrtYn': '0',\n",
       "    'lnbrMnnm': '801',\n",
       "    'roadAddr': '제주특별자치도 서귀포시 성산읍 풍천로38번길 59',\n",
       "    'lnbrSlno': '0',\n",
       "    'buldMnnm': '59',\n",
       "    'bdKdcd': '0',\n",
       "    'liNm': '신천리',\n",
       "    'rnMgtSn': '501304857897',\n",
       "    'mtYn': '0',\n",
       "    'bdMgtSn': '5013025930108010000000001',\n",
       "    'buldSlno': '0'},\n",
       "   {'detBdNmList': '',\n",
       "    'engAddr': '61, Pungcheon-ro 38beon-gil, Seongsan-eup, Seogwipo-si, Jeju-do',\n",
       "    'rn': '풍천로38번길',\n",
       "    'emdNm': '성산읍',\n",
       "    'zipNo': '63637',\n",
       "    'roadAddrPart2': '',\n",
       "    'emdNo': '01',\n",
       "    'sggNm': '서귀포시',\n",
       "    'jibunAddr': '제주특별자치도 서귀포시 성산읍 신천리 802',\n",
       "    'siNm': '제주특별자치도',\n",
       "    'roadAddrPart1': '제주특별자치도 서귀포시 성산읍 풍천로38번길 61',\n",
       "    'bdNm': '',\n",
       "    'admCd': '5013025930',\n",
       "    'udrtYn': '0',\n",
       "    'lnbrMnnm': '802',\n",
       "    'roadAddr': '제주특별자치도 서귀포시 성산읍 풍천로38번길 61',\n",
       "    'lnbrSlno': '0',\n",
       "    'buldMnnm': '61',\n",
       "    'bdKdcd': '0',\n",
       "    'liNm': '신천리',\n",
       "    'rnMgtSn': '501304857897',\n",
       "    'mtYn': '0',\n",
       "    'bdMgtSn': '5013025930108020000000002',\n",
       "    'buldSlno': '0'}]}}"
      ]
     },
     "execution_count": 104,
     "metadata": {},
     "output_type": "execute_result"
    }
   ],
   "source": [
    "result = requests.get(url).json()\n",
    "result "
   ]
  },
  {
   "cell_type": "code",
   "execution_count": 95,
   "metadata": {},
   "outputs": [
    {
     "data": {
      "text/plain": [
       "dict_keys(['results'])"
      ]
     },
     "execution_count": 95,
     "metadata": {},
     "output_type": "execute_result"
    }
   ],
   "source": [
    "result.keys()"
   ]
  },
  {
   "cell_type": "code",
   "execution_count": 96,
   "metadata": {},
   "outputs": [
    {
     "data": {
      "text/plain": [
       "dict_keys(['common', 'juso'])"
      ]
     },
     "execution_count": 96,
     "metadata": {},
     "output_type": "execute_result"
    }
   ],
   "source": [
    "result['results'].keys()"
   ]
  },
  {
   "cell_type": "code",
   "execution_count": 97,
   "metadata": {},
   "outputs": [
    {
     "data": {
      "text/plain": [
       "[{'detBdNmList': '',\n",
       "  'engAddr': '2596, 516-ro, Jeju-si, Jeju-do',\n",
       "  'rn': '516로',\n",
       "  'emdNm': '용강동',\n",
       "  'zipNo': '63312',\n",
       "  'roadAddrPart2': '(용강동)',\n",
       "  'emdNo': '02',\n",
       "  'sggNm': '제주시',\n",
       "  'jibunAddr': '제주특별자치도 제주시 용강동 산14-1 한라생태숲관리연구소',\n",
       "  'siNm': '제주특별자치도',\n",
       "  'roadAddrPart1': '제주특별자치도 제주시 516로 2596',\n",
       "  'bdNm': '한라생태숲관리연구소',\n",
       "  'admCd': '5011013200',\n",
       "  'udrtYn': '0',\n",
       "  'lnbrMnnm': '14',\n",
       "  'roadAddr': '제주특별자치도 제주시 516로 2596(용강동)',\n",
       "  'lnbrSlno': '1',\n",
       "  'buldMnnm': '2596',\n",
       "  'bdKdcd': '0',\n",
       "  'liNm': '',\n",
       "  'rnMgtSn': '501103020004',\n",
       "  'mtYn': '1',\n",
       "  'bdMgtSn': '5011013200200140001065574',\n",
       "  'buldSlno': '0'}]"
      ]
     },
     "execution_count": 97,
     "metadata": {},
     "output_type": "execute_result"
    }
   ],
   "source": [
    "juso_list = result['results']['juso']\n",
    "juso_list"
   ]
  },
  {
   "cell_type": "code",
   "execution_count": 98,
   "metadata": {},
   "outputs": [
    {
     "data": {
      "text/plain": [
       "{'detBdNmList': '',\n",
       " 'engAddr': '2596, 516-ro, Jeju-si, Jeju-do',\n",
       " 'rn': '516로',\n",
       " 'emdNm': '용강동',\n",
       " 'zipNo': '63312',\n",
       " 'roadAddrPart2': '(용강동)',\n",
       " 'emdNo': '02',\n",
       " 'sggNm': '제주시',\n",
       " 'jibunAddr': '제주특별자치도 제주시 용강동 산14-1 한라생태숲관리연구소',\n",
       " 'siNm': '제주특별자치도',\n",
       " 'roadAddrPart1': '제주특별자치도 제주시 516로 2596',\n",
       " 'bdNm': '한라생태숲관리연구소',\n",
       " 'admCd': '5011013200',\n",
       " 'udrtYn': '0',\n",
       " 'lnbrMnnm': '14',\n",
       " 'roadAddr': '제주특별자치도 제주시 516로 2596(용강동)',\n",
       " 'lnbrSlno': '1',\n",
       " 'buldMnnm': '2596',\n",
       " 'bdKdcd': '0',\n",
       " 'liNm': '',\n",
       " 'rnMgtSn': '501103020004',\n",
       " 'mtYn': '1',\n",
       " 'bdMgtSn': '5011013200200140001065574',\n",
       " 'buldSlno': '0'}"
      ]
     },
     "execution_count": 98,
     "metadata": {},
     "output_type": "execute_result"
    }
   ],
   "source": [
    "juso_list[0]"
   ]
  },
  {
   "cell_type": "code",
   "execution_count": 99,
   "metadata": {},
   "outputs": [
    {
     "data": {
      "text/plain": [
       "5011013200"
      ]
     },
     "execution_count": 99,
     "metadata": {},
     "output_type": "execute_result"
    }
   ],
   "source": [
    "int(juso_list[0]['admCd'])"
   ]
  },
  {
   "cell_type": "code",
   "execution_count": null,
   "metadata": {},
   "outputs": [],
   "source": []
  },
  {
   "cell_type": "code",
   "execution_count": null,
   "metadata": {},
   "outputs": [],
   "source": []
  }
 ],
 "metadata": {
  "interpreter": {
   "hash": "c81169c30fb96244cfba0db287a0d3fd5325268de070a7a6116eecd4596df902"
  },
  "kernelspec": {
   "display_name": "Python 3.8.8 64-bit ('base': conda)",
   "language": "python",
   "name": "python3"
  },
  "language_info": {
   "codemirror_mode": {
    "name": "ipython",
    "version": 3
   },
   "file_extension": ".py",
   "mimetype": "text/x-python",
   "name": "python",
   "nbconvert_exporter": "python",
   "pygments_lexer": "ipython3",
   "version": "3.8.8"
  },
  "orig_nbformat": 4
 },
 "nbformat": 4,
 "nbformat_minor": 2
}
