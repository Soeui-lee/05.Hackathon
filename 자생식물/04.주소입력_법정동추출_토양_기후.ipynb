{
 "cells": [
  {
   "cell_type": "code",
   "execution_count": 186,
   "metadata": {},
   "outputs": [],
   "source": [
    "import requests\n",
    "from urllib.parse import quote\n",
    "import pandas as pd\n",
    "import numpy as np\n",
    "from bs4 import BeautifulSoup"
   ]
  },
  {
   "cell_type": "markdown",
   "metadata": {},
   "source": [
    "### 1. 대상지 주소 입력 > 법정동코드 추출"
   ]
  },
  {
   "cell_type": "markdown",
   "metadata": {},
   "source": [
    "대상지 : 강원 철원군 갈말읍 군탄리 473-1 ( DMZ일원 화살머리고지 등 유해발굴지 )"
   ]
  },
  {
   "cell_type": "code",
   "execution_count": 187,
   "metadata": {},
   "outputs": [],
   "source": [
    "from urllib.parse import quote\n",
    "with open('road_key.txt') as file:\n",
    "    road_key = f'{file.read()}'"
   ]
  },
  {
   "cell_type": "code",
   "execution_count": 188,
   "metadata": {},
   "outputs": [
    {
     "data": {
      "text/plain": [
       "'4278025624'"
      ]
     },
     "execution_count": 188,
     "metadata": {},
     "output_type": "execute_result"
    }
   ],
   "source": [
    "road_url = 'https://www.juso.go.kr/addrlink/addrLinkApi.do'\n",
    "params1 = f'confmKey={road_key}&currentPage=1&countPerPage=10'\n",
    "params2 = f'keyword={quote(input())}&resultType=json'\n",
    "url = f\"{road_url}?{params1}&{params2}\"\n",
    "result = requests.get(url).json()\n",
    "\n",
    "BJD_code=result['results']['juso'][0]['admCd'] \n",
    "BJD_code"
   ]
  },
  {
   "cell_type": "markdown",
   "metadata": {},
   "source": [
    "### 2. 법정동코드 > 대상지 기후대, 토양성분 추출"
   ]
  },
  {
   "cell_type": "code",
   "execution_count": 189,
   "metadata": {},
   "outputs": [
    {
     "name": "stderr",
     "output_type": "stream",
     "text": [
      "C:\\Users\\ICT01_11\\anaconda3\\lib\\site-packages\\IPython\\core\\interactiveshell.py:3165: DtypeWarning: Columns (2) have mixed types.Specify dtype option on import or set low_memory=False.\n",
      "  has_raised = await self.run_ast_nodes(code_ast.body, cell_name,\n"
     ]
    },
    {
     "data": {
      "text/plain": [
       "2.0"
      ]
     },
     "execution_count": 189,
     "metadata": {},
     "output_type": "execute_result"
    }
   ],
   "source": [
    "#https://www.forest.go.kr/kfsweb/kfi/kfs/trail/soil.do?mn=NKFS_06_08_02&fileDownload=Y&dataType=/soil/FS_IJ100_50.zip&pblicDataId=PBD0000181&tabs=1&searchSrvc=&subTitle=&searchWrd=&searchCnd=\n",
    "addrr = pd.read_csv('전국.csv', sep=',')  #전국.csv만들기\n",
    "addrr = pd.DataFrame(addrr)\n",
    "addrr = addrr[['EMNDN_CD','CLZN_CD']]\n",
    "addrr.columns = ['읍면동코드','기후대코드']\n",
    "addrr['읍면동코드'] = int(BJD_code[:-2])\n",
    "climate_code = addrr['기후대코드'].mode()[0]\n",
    "climate_code  \n",
    "\n",
    "# 1) 온대북부, 2)온대중부, 3)온대남부 4) 난대\n",
    "\n",
    "# if climate_code == 1.0:\n",
    "#     print('온대북부')\n",
    "# elif climate_code == 2.0:\n",
    "#     print('온대중부')\n",
    "# elif climate_code == 3.0:\n",
    "#     print('온대남부')\n",
    "# elif climate_code == 4.0:\n",
    "#     print('난대')"
   ]
  },
  {
   "cell_type": "code",
   "execution_count": 190,
   "metadata": {},
   "outputs": [
    {
     "data": {
      "text/html": [
       "<div>\n",
       "<style scoped>\n",
       "    .dataframe tbody tr th:only-of-type {\n",
       "        vertical-align: middle;\n",
       "    }\n",
       "\n",
       "    .dataframe tbody tr th {\n",
       "        vertical-align: top;\n",
       "    }\n",
       "\n",
       "    .dataframe thead th {\n",
       "        text-align: right;\n",
       "    }\n",
       "</style>\n",
       "<table border=\"1\" class=\"dataframe\">\n",
       "  <thead>\n",
       "    <tr style=\"text-align: right;\">\n",
       "      <th></th>\n",
       "      <th>산도</th>\n",
       "      <th>유효인산</th>\n",
       "      <th>유기물</th>\n",
       "      <th>마그네슘</th>\n",
       "      <th>칼륨</th>\n",
       "      <th>칼슘</th>\n",
       "    </tr>\n",
       "  </thead>\n",
       "  <tbody>\n",
       "    <tr>\n",
       "      <th>0</th>\n",
       "      <td>5.6</td>\n",
       "      <td>49</td>\n",
       "      <td>25.9</td>\n",
       "      <td>1.1</td>\n",
       "      <td>.43</td>\n",
       "      <td>5.7</td>\n",
       "    </tr>\n",
       "    <tr>\n",
       "      <th>1</th>\n",
       "      <td>4.9</td>\n",
       "      <td>25.5</td>\n",
       "      <td>16.9</td>\n",
       "      <td>1</td>\n",
       "      <td>.26</td>\n",
       "      <td>4.8</td>\n",
       "    </tr>\n",
       "    <tr>\n",
       "      <th>2</th>\n",
       "      <td>5.7</td>\n",
       "      <td>56.1</td>\n",
       "      <td>22.8</td>\n",
       "      <td>1.2</td>\n",
       "      <td>.37</td>\n",
       "      <td>3.5</td>\n",
       "    </tr>\n",
       "    <tr>\n",
       "      <th>3</th>\n",
       "      <td>5.6</td>\n",
       "      <td>53.8</td>\n",
       "      <td>26.2</td>\n",
       "      <td>4</td>\n",
       "      <td>.5</td>\n",
       "      <td>7.3</td>\n",
       "    </tr>\n",
       "    <tr>\n",
       "      <th>4</th>\n",
       "      <td>6.2</td>\n",
       "      <td>63.4</td>\n",
       "      <td>20.3</td>\n",
       "      <td>3.8</td>\n",
       "      <td>.75</td>\n",
       "      <td>8.2</td>\n",
       "    </tr>\n",
       "    <tr>\n",
       "      <th>5</th>\n",
       "      <td>6.1</td>\n",
       "      <td>84.2</td>\n",
       "      <td>26.9</td>\n",
       "      <td>1.8</td>\n",
       "      <td>.41</td>\n",
       "      <td>6.8</td>\n",
       "    </tr>\n",
       "    <tr>\n",
       "      <th>6</th>\n",
       "      <td>5.9</td>\n",
       "      <td>141.1</td>\n",
       "      <td>35.4</td>\n",
       "      <td>1.4</td>\n",
       "      <td>.69</td>\n",
       "      <td>5.8</td>\n",
       "    </tr>\n",
       "    <tr>\n",
       "      <th>7</th>\n",
       "      <td>6.1</td>\n",
       "      <td>138.3</td>\n",
       "      <td>30.3</td>\n",
       "      <td>2.1</td>\n",
       "      <td>.64</td>\n",
       "      <td>9</td>\n",
       "    </tr>\n",
       "    <tr>\n",
       "      <th>8</th>\n",
       "      <td>6</td>\n",
       "      <td>224.4</td>\n",
       "      <td>37.9</td>\n",
       "      <td>1.9</td>\n",
       "      <td>.96</td>\n",
       "      <td>8.1</td>\n",
       "    </tr>\n",
       "    <tr>\n",
       "      <th>9</th>\n",
       "      <td>5.3</td>\n",
       "      <td>54.1</td>\n",
       "      <td>31.4</td>\n",
       "      <td>1.6</td>\n",
       "      <td>.49</td>\n",
       "      <td>6.3</td>\n",
       "    </tr>\n",
       "  </tbody>\n",
       "</table>\n",
       "</div>"
      ],
      "text/plain": [
       "    산도   유효인산   유기물 마그네슘   칼륨   칼슘\n",
       "0  5.6     49  25.9  1.1  .43  5.7\n",
       "1  4.9   25.5  16.9    1  .26  4.8\n",
       "2  5.7   56.1  22.8  1.2  .37  3.5\n",
       "3  5.6   53.8  26.2    4   .5  7.3\n",
       "4  6.2   63.4  20.3  3.8  .75  8.2\n",
       "5  6.1   84.2  26.9  1.8  .41  6.8\n",
       "6  5.9  141.1  35.4  1.4  .69  5.8\n",
       "7  6.1  138.3  30.3  2.1  .64    9\n",
       "8    6  224.4  37.9  1.9  .96  8.1\n",
       "9  5.3   54.1  31.4  1.6  .49  6.3"
      ]
     },
     "execution_count": 190,
     "metadata": {},
     "output_type": "execute_result"
    }
   ],
   "source": [
    "with open('soil_key.txt') as file:\n",
    "    soilkey = file.read()\n",
    "\n",
    "s_url = f'http://apis.data.go.kr/1390802/SoilEnviron/SoilExam/getSoilExamList?serviceKey={soilkey}&Page_Size=10&Page_No=1&BJD_Code={BJD_code}'\n",
    "s_result = requests.get(s_url)\n",
    "s_contents = s_result.text\n",
    "s_soup = BeautifulSoup(s_contents, 'html.parser')\n",
    "\n",
    "acid = []\n",
    "vldpha = []\n",
    "vldsia = []\n",
    "om = []\n",
    "posifert_mg = []\n",
    "posifert_k = []\n",
    "posifert_ca = []\n",
    "\n",
    "lis = [acid, vldpha, vldsia, om, posifert_mg, posifert_k, posifert_ca]\n",
    "cons = ['acid', 'vldpha', 'vldsia', 'om', 'posifert_mg', 'posifert_k', 'posifert_ca']\n",
    "\n",
    "for li in lis:\n",
    "    for con in cons:\n",
    "        if lis.index(li) == cons.index(con):\n",
    "            for a in s_soup.find_all(con):\n",
    "                li.append(a.get_text())\n",
    "\n",
    "ground_con = pd.DataFrame({'산도':acid, '유효인산':vldpha, '유기물':om, '마그네슘':posifert_mg, '칼륨':posifert_k , '칼슘':posifert_ca})\n",
    "ground_con"
   ]
  },
  {
   "cell_type": "markdown",
   "metadata": {},
   "source": []
  },
  {
   "cell_type": "code",
   "execution_count": 197,
   "metadata": {},
   "outputs": [],
   "source": [
    "# 지번코드 -> \n",
    "# 자생식물 주소-> 지번코드 \n",
    "# "
   ]
  }
 ],
 "metadata": {
  "interpreter": {
   "hash": "9f9dcbc3dbda920e9125360fe0104a4d858dfb1763bce9adddd9113b29fead37"
  },
  "kernelspec": {
   "display_name": "Python 3.8.8 64-bit ('base': conda)",
   "language": "python",
   "name": "python3"
  },
  "language_info": {
   "codemirror_mode": {
    "name": "ipython",
    "version": 3
   },
   "file_extension": ".py",
   "mimetype": "text/x-python",
   "name": "python",
   "nbconvert_exporter": "python",
   "pygments_lexer": "ipython3",
   "version": "3.8.8"
  },
  "orig_nbformat": 4
 },
 "nbformat": 4,
 "nbformat_minor": 2
}
